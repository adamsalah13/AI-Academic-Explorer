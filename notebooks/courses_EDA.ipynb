{
 "cells": [
  {
   "cell_type": "code",
   "execution_count": 1,
   "id": "a5811321",
   "metadata": {},
   "outputs": [],
   "source": [
    "import json\n",
    "import pandas as pd\n",
    "import os"
   ]
  },
  {
   "cell_type": "code",
   "execution_count": 2,
   "id": "24c9411a",
   "metadata": {},
   "outputs": [],
   "source": [
    "with open('../data/camosun_courses.json') as f:\n",
    "    data = json.load(f)\n",
    "df = pd.DataFrame(data)"
   ]
  },
  {
   "cell_type": "code",
   "execution_count": 3,
   "id": "380423f6",
   "metadata": {},
   "outputs": [
    {
     "data": {
      "text/plain": [
       "1220"
      ]
     },
     "execution_count": 3,
     "metadata": {},
     "output_type": "execute_result"
    }
   ],
   "source": [
    "len(df)"
   ]
  },
  {
   "cell_type": "code",
   "execution_count": 4,
   "id": "89579cad",
   "metadata": {},
   "outputs": [
    {
     "data": {
      "application/vnd.microsoft.datawrangler.viewer.v0+json": {
       "columns": [
        {
         "name": "index",
         "rawType": "int64",
         "type": "integer"
        },
        {
         "name": "url",
         "rawType": "object",
         "type": "unknown"
        },
        {
         "name": "code",
         "rawType": "object",
         "type": "string"
        },
        {
         "name": "title",
         "rawType": "object",
         "type": "string"
        },
        {
         "name": "description",
         "rawType": "object",
         "type": "string"
        },
        {
         "name": "credits",
         "rawType": "object",
         "type": "string"
        },
        {
         "name": "hours",
         "rawType": "object",
         "type": "string"
        },
        {
         "name": "Prerequisites",
         "rawType": "object",
         "type": "unknown"
        },
        {
         "name": "Equivalencies",
         "rawType": "object",
         "type": "string"
        },
        {
         "name": "Pre or Co-requisites",
         "rawType": "object",
         "type": "string"
        }
       ],
       "conversionMethod": "pd.DataFrame",
       "ref": "745c1cf1-084b-440f-a193-f867c62207ca",
       "rows": [
        [
         "0",
         "{'code': 'ACCT 110\\xa0-\\xa0Financial Accounting 1', 'url': 'https://calendar.camosun.ca/preview_course_nopop.php?catoid=25&coid=44559'}",
         "ACCT 110",
         "Financial Accounting 1",
         "Students will complete all the steps of the accounting cycle culminating in the preparation and analysis of financial statements for sole proprietorships. Topics include: accounting principles, cash, receivables, inventory, capital assets, current liabilities and owner’s equity.",
         "3",
         "60",
         "{'One of': ['C in English 12', 'C in English 12 Camosun Alternative', 'C in Math 11', 'C in MATH 077', 'C in MATH 137', 'C+ in MATH 072', 'C+ in MATH 075', 'C+ in MATH 135']}",
         "",
         ""
        ],
        [
         "1",
         "{'code': 'ACCT 111\\xa0-\\xa0Financial Accounting 2', 'url': 'https://calendar.camosun.ca/preview_course_nopop.php?catoid=25&coid=44560'}",
         "ACCT 111",
         "Financial Accounting 2",
         "Preparation of cash flow statements and analysis of financial statements for sole proprietorships, partnerships and corporations. In depth study of accounting principles, cash, receivables, inventories, capital assets, current and long term liabilities and investments and shareholders equity. Completion of a computerized bookkeeping practice set. ",
         "3",
         "60",
         "{'All of': ['C in ACCT 110']}",
         "",
         ""
        ],
        [
         "2",
         "{'code': 'ACCT 161\\xa0-\\xa0Financial Management', 'url': 'https://calendar.camosun.ca/preview_course_nopop.php?catoid=25&coid=44562'}",
         "ACCT 161",
         "Financial Management",
         "This course enables learners to develop the fundamental financial management skills needed in any business context. Cases and problems will be used to apply the techniques to business situations.",
         "3",
         "60",
         "{'One of': ['C in English 12', 'C in English 12 Camosun Alternative']}",
         "",
         ""
        ],
        [
         "3",
         "{'code': 'ACCT 207\\xa0-\\xa0Managerial Accounting', 'url': 'https://calendar.camosun.ca/preview_course_nopop.php?catoid=25&coid=44566'}",
         "ACCT 207",
         "Managerial Accounting",
         "This course is beyond the introductory level and intended primarily for non-accounting majors. It is devoted to managerial analysis and decision-making, special purpose reports for management, variable costing and the contribution approach, and budgeting.",
         "3",
         "60",
         "{'One of': ['C in ACCT 110', 'C in ACCT 130', 'C in ACCT 161', 'ACCT 140', 'Not for accounting majors. Students will receive credit for only one of ACCT 207 or ACCT 220 .']}",
         "",
         ""
        ],
        [
         "4",
         "{'code': 'ACCT 210\\xa0-\\xa0Financial Accounting 3', 'url': 'https://calendar.camosun.ca/preview_course_nopop.php?catoid=25&coid=44567'}",
         "ACCT 210",
         "Financial Accounting 3",
         "Students apply accounting principles and concepts of financial accounting to business situations. Topics include: financial statement presentation including note disclosure, revenue and expense recognition; accounting for cash, receivables, inventories, property, plant and equipment and investments. Cash Flow Statements are also examined in detail.",
         "3",
         "60",
         "{'All of': ['C in ACCT 111']}",
         "",
         ""
        ]
       ],
       "shape": {
        "columns": 9,
        "rows": 5
       }
      },
      "text/html": [
       "<div>\n",
       "<style scoped>\n",
       "    .dataframe tbody tr th:only-of-type {\n",
       "        vertical-align: middle;\n",
       "    }\n",
       "\n",
       "    .dataframe tbody tr th {\n",
       "        vertical-align: top;\n",
       "    }\n",
       "\n",
       "    .dataframe thead th {\n",
       "        text-align: right;\n",
       "    }\n",
       "</style>\n",
       "<table border=\"1\" class=\"dataframe\">\n",
       "  <thead>\n",
       "    <tr style=\"text-align: right;\">\n",
       "      <th></th>\n",
       "      <th>url</th>\n",
       "      <th>code</th>\n",
       "      <th>title</th>\n",
       "      <th>description</th>\n",
       "      <th>credits</th>\n",
       "      <th>hours</th>\n",
       "      <th>Prerequisites</th>\n",
       "      <th>Equivalencies</th>\n",
       "      <th>Pre or Co-requisites</th>\n",
       "    </tr>\n",
       "  </thead>\n",
       "  <tbody>\n",
       "    <tr>\n",
       "      <th>0</th>\n",
       "      <td>{'code': 'ACCT 110 - Financial Accounting 1', ...</td>\n",
       "      <td>ACCT 110</td>\n",
       "      <td>Financial Accounting 1</td>\n",
       "      <td>Students will complete all the steps of the ac...</td>\n",
       "      <td>3</td>\n",
       "      <td>60</td>\n",
       "      <td>{'One of': ['C in English 12', 'C in English 1...</td>\n",
       "      <td></td>\n",
       "      <td></td>\n",
       "    </tr>\n",
       "    <tr>\n",
       "      <th>1</th>\n",
       "      <td>{'code': 'ACCT 111 - Financial Accounting 2', ...</td>\n",
       "      <td>ACCT 111</td>\n",
       "      <td>Financial Accounting 2</td>\n",
       "      <td>Preparation of cash flow statements and analys...</td>\n",
       "      <td>3</td>\n",
       "      <td>60</td>\n",
       "      <td>{'All of': ['C in ACCT 110']}</td>\n",
       "      <td></td>\n",
       "      <td></td>\n",
       "    </tr>\n",
       "    <tr>\n",
       "      <th>2</th>\n",
       "      <td>{'code': 'ACCT 161 - Financial Management', 'u...</td>\n",
       "      <td>ACCT 161</td>\n",
       "      <td>Financial Management</td>\n",
       "      <td>This course enables learners to develop the fu...</td>\n",
       "      <td>3</td>\n",
       "      <td>60</td>\n",
       "      <td>{'One of': ['C in English 12', 'C in English 1...</td>\n",
       "      <td></td>\n",
       "      <td></td>\n",
       "    </tr>\n",
       "    <tr>\n",
       "      <th>3</th>\n",
       "      <td>{'code': 'ACCT 207 - Managerial Accounting', '...</td>\n",
       "      <td>ACCT 207</td>\n",
       "      <td>Managerial Accounting</td>\n",
       "      <td>This course is beyond the introductory level a...</td>\n",
       "      <td>3</td>\n",
       "      <td>60</td>\n",
       "      <td>{'One of': ['C in ACCT 110', 'C in ACCT 130', ...</td>\n",
       "      <td></td>\n",
       "      <td></td>\n",
       "    </tr>\n",
       "    <tr>\n",
       "      <th>4</th>\n",
       "      <td>{'code': 'ACCT 210 - Financial Accounting 3', ...</td>\n",
       "      <td>ACCT 210</td>\n",
       "      <td>Financial Accounting 3</td>\n",
       "      <td>Students apply accounting principles and conce...</td>\n",
       "      <td>3</td>\n",
       "      <td>60</td>\n",
       "      <td>{'All of': ['C in ACCT 111']}</td>\n",
       "      <td></td>\n",
       "      <td></td>\n",
       "    </tr>\n",
       "  </tbody>\n",
       "</table>\n",
       "</div>"
      ],
      "text/plain": [
       "                                                 url      code  \\\n",
       "0  {'code': 'ACCT 110 - Financial Accounting 1', ...  ACCT 110   \n",
       "1  {'code': 'ACCT 111 - Financial Accounting 2', ...  ACCT 111   \n",
       "2  {'code': 'ACCT 161 - Financial Management', 'u...  ACCT 161   \n",
       "3  {'code': 'ACCT 207 - Managerial Accounting', '...  ACCT 207   \n",
       "4  {'code': 'ACCT 210 - Financial Accounting 3', ...  ACCT 210   \n",
       "\n",
       "                    title                                        description  \\\n",
       "0  Financial Accounting 1  Students will complete all the steps of the ac...   \n",
       "1  Financial Accounting 2  Preparation of cash flow statements and analys...   \n",
       "2    Financial Management  This course enables learners to develop the fu...   \n",
       "3   Managerial Accounting  This course is beyond the introductory level a...   \n",
       "4  Financial Accounting 3  Students apply accounting principles and conce...   \n",
       "\n",
       "  credits hours                                      Prerequisites  \\\n",
       "0       3    60  {'One of': ['C in English 12', 'C in English 1...   \n",
       "1       3    60                      {'All of': ['C in ACCT 110']}   \n",
       "2       3    60  {'One of': ['C in English 12', 'C in English 1...   \n",
       "3       3    60  {'One of': ['C in ACCT 110', 'C in ACCT 130', ...   \n",
       "4       3    60                      {'All of': ['C in ACCT 111']}   \n",
       "\n",
       "  Equivalencies Pre or Co-requisites  \n",
       "0                                     \n",
       "1                                     \n",
       "2                                     \n",
       "3                                     \n",
       "4                                     "
      ]
     },
     "execution_count": 4,
     "metadata": {},
     "output_type": "execute_result"
    }
   ],
   "source": [
    "df.head()"
   ]
  },
  {
   "cell_type": "code",
   "execution_count": 5,
   "id": "8ceae2ac",
   "metadata": {},
   "outputs": [
    {
     "name": "stdout",
     "output_type": "stream",
     "text": [
      "<class 'pandas.core.frame.DataFrame'>\n",
      "RangeIndex: 1220 entries, 0 to 1219\n",
      "Data columns (total 9 columns):\n",
      " #   Column                Non-Null Count  Dtype \n",
      "---  ------                --------------  ----- \n",
      " 0   url                   1220 non-null   object\n",
      " 1   code                  1220 non-null   object\n",
      " 2   title                 1220 non-null   object\n",
      " 3   description           1220 non-null   object\n",
      " 4   credits               1220 non-null   object\n",
      " 5   hours                 1220 non-null   object\n",
      " 6   Prerequisites         1220 non-null   object\n",
      " 7   Equivalencies         1220 non-null   object\n",
      " 8   Pre or Co-requisites  1220 non-null   object\n",
      "dtypes: object(9)\n",
      "memory usage: 85.9+ KB\n"
     ]
    }
   ],
   "source": [
    "df.info()"
   ]
  },
  {
   "cell_type": "code",
   "execution_count": null,
   "id": "17038da7",
   "metadata": {},
   "outputs": [],
   "source": []
  }
 ],
 "metadata": {
  "kernelspec": {
   "display_name": "base",
   "language": "python",
   "name": "python3"
  },
  "language_info": {
   "codemirror_mode": {
    "name": "ipython",
    "version": 3
   },
   "file_extension": ".py",
   "mimetype": "text/x-python",
   "name": "python",
   "nbconvert_exporter": "python",
   "pygments_lexer": "ipython3",
   "version": "3.11.5"
  }
 },
 "nbformat": 4,
 "nbformat_minor": 5
}
