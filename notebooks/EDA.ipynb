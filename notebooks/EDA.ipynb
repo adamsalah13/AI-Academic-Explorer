{
 "cells": [
  {
   "cell_type": "code",
   "execution_count": 1,
   "id": "64bec204",
   "metadata": {},
   "outputs": [],
   "source": [
    "import os\n",
    "import json\n",
    "import re\n",
    "import requests\n",
    "import sys\n",
    "from bs4 import BeautifulSoup\n",
    "import time\n",
    "from tqdm import tqdm\n",
    "from datetime import datetime\n",
    "from urllib.parse import urljoin\n",
    "\n",
    "sys.path.append('../src')\n",
    "from old_program_scraper import get_soup, extract_program_details, clean_text"
   ]
  },
  {
   "cell_type": "code",
   "execution_count": 2,
   "id": "6f78a72c",
   "metadata": {},
   "outputs": [],
   "source": [
    "url = 'https://calendar.camosun.ca/preview_program.php?catoid=25&poid=3954'\n",
    "soup = get_soup(url)"
   ]
  },
  {
   "cell_type": "code",
   "execution_count": 3,
   "id": "c4cb961d",
   "metadata": {},
   "outputs": [],
   "source": [
    "content_div = soup.select_one('.block_content') or soup.select_one('#gateway_container') or soup.select_one('div.main') or soup"
   ]
  },
  {
   "cell_type": "code",
   "execution_count": 4,
   "id": "d4ff71a6",
   "metadata": {},
   "outputs": [
    {
     "data": {
      "text/plain": [
       "<td class=\"block_content\" colspan=\"2\">\n",
       "<table class=\"table_default\">\n",
       "<tr>\n",
       "<td colspan=\"4\">\n",
       "<table class=\"table_default\">\n",
       "<tr>\n",
       "<td>\n",
       "<div class=\"help_block\"><a class=\"help acalog-highlight-ignore\" href=\"help.php\" onclick=\"acalogPopup('help.php', 'help', 770, 530, 'yes');return false;\" target=\"_blank\"><strong>HELP</strong></a></div>\n",
       "<span class=\"acalog_catalog_name\">Academic Calendar 2025-26</span> <br/>\n",
       "<h1 id=\"acalog-content\">Athletic and Exercise Therapy (Bachelor’s Degree)</h1>\n",
       "<div style=\"float: right\"><a alt=\"Text Version\" class=\"print_link acalog-highlight-ignore\" href=\"/preview_program.php?catoid=25&amp;poid=3954&amp;print\" onclick=\"acalogPopup('/preview_program.php?catoid=25&amp;poid=3954&amp;print', 'print_preview', 770, 530, 'yes');return false;\" rel=\"nofollow\" target=\"_blank\" title=\"Print-Friendly Page (opens a new window)\"><span class=\"sr-only\">Print-Friendly Page (opens a new window)</span></a></div><div class=\"acalog-social-media-links float_right\">\n",
       "<div class=\"gateway-toolbar-facebook\">\n",
       "<a href=\"http://www.facebook.com/sharer/sharer.php?u=http%3A%2F%2Fcalendar.camosun.ca%2Fpreview_program.php%3Fcatoid%3D25%26poid%3D3954&amp;t=I just discovered 'Athletic and Exercise Therapy (Bachelor's Degree)' at Camosun College\" target=\"_blank\" title=\"Facebook this Page (opens a new window)\">\n",
       "<span class=\"sr-only\">Facebook this Page (opens a new window)</span>\n",
       "</a>\n",
       "</div>\n",
       "<div class=\"gateway-toolbar-twitter\">\n",
       "<a href=\"http://twitter.com/intent/tweet?u=u=http%3A%2F%2Fcalendar.camosun.ca%2Fpreview_program.php%3Fcatoid%3D25%26poid%3D3954&amp;t=Check out this program at Camosun College\" target=\"_blank\" title=\"Tweet this Page (opens a new window)\">\n",
       "<span class=\"sr-only\">Tweet this Page (opens a new window)</span>\n",
       "</a>\n",
       "</div></div> </td>\n",
       "</tr>\n",
       "<tr>\n",
       "<td>\n",
       "<hr/>\n",
       "</td>\n",
       "</tr>\n",
       "</table>\n",
       "<div class=\"program_description\">\n",
       "<p><a href=\"https://camosun.ca/programs-courses/find-program/athletic-exercise-therapy-degree\" target=\"_blank\"><strong> Visit Program Webpage</strong></a></p>\n",
       "<table border=\"0\" cellpadding=\"1\" cellspacing=\"1\" style=\"width:100%\">\n",
       "<tbody>\n",
       "<tr>\n",
       "<td style=\"width:20%\">Total Credits:</td>\n",
       "<td style=\"width:80%\">132</td>\n",
       "</tr>\n",
       "<tr>\n",
       "<td>Credential:</td>\n",
       "<td>Bachelor of Athletic and Exercise Therapy</td>\n",
       "</tr>\n",
       "<tr>\n",
       "<td>Program Code:</td>\n",
       "<td>AET.BDEG</td>\n",
       "</tr>\n",
       "<tr>\n",
       "<td>CIP:</td>\n",
       "<td>51.0913</td>\n",
       "</tr>\n",
       "</tbody>\n",
       "</table>\n",
       "<h2>Overview</h2>\n",
       "<p>The Bachelor of Athletic and Exercise Therapy (BAET) is a comprehensive four-year applied degree program focused on preventing, assessing, treating, and managing orthopaedic injuries and health related conditions. Students gain advanced knowledge and skills in athletic and exercise therapy, exercise science, and high-performance sport, ensuring graduates are ready to contribute to the field of health and wellness in a variety of settings.</p>\n",
       "<p>In this applied program, students will integrate theoretical knowledge and hands-on skills through classroom and laboratory activities in conjunction with practical placements in clinical and field settings.</p>\n",
       "<p>Students apply essential knowledge to the assessment and treatment of a variety of musculoskeletal conditions and injuries. Using critical thinking and evidence-informed decision-making processes, students design and implement conditioning and rehabilitation programs to aid individuals in their return to sport, work, and activities of daily living. Hands-on learning allows students to apply sports-related emergency care and physical fitness assessment and optimization.</p>\n",
       "<p>Students learn to use professional and administrative skills to successfully operate a practice. They learn to educate and counsel clients on physical, psychological, and emotional well-being, while promoting a holistic approach to health and wellness.</p>\n",
       "<p>The BAET program is accredited by the Canadian Athletic Therapists Association (CATA). Graduates must successfully complete the CATA National Certification Examination to be eligible for designation as a Certified Athletic Therapist.</p>\n",
       "<p>Through extensive clinical and fieldwork experiences, our program offers students theoretical foundations, practical competencies, and prerequisites essential for pursuing additional certifications.</p>\n",
       "<p><strong>Career Opportunities:</strong></p>\n",
       "<p>An array of career opportunities exists for program graduates, including as athletic therapists (CATA), exercise therapists, strength and conditioning coaches (NSCA), exercise physiologists (CSEP), or kinesiologists (BCAK) in a variety of settings, including private or multidisciplinary clinics, private or post-secondary schools, sports teams, public health, and rehabilitation programs.</p>\n",
       "<p>Graduates have successfully pursued further education in the areas of  physiotherapy, occupational therapy, chiropractic care, medicine, and research.</p>\n",
       "</div>\n",
       "</td>\n",
       "</tr>\n",
       "<tr>\n",
       "<td class=\"width\" colspan=\"4\">\n",
       "<div class=\"custom_leftpad_20\"><div class=\"acalog-core\"><h2><a name=\"Admissions\"></a><a id=\"core_79675\" name=\"admissions\"></a>Admissions</h2><hr/><p><strong>One of:</strong></p> <ul> <li>C+ in <a aria-label=\"English 12 opens a new window\" href=\"content.php?catoid=25&amp;navoid=2207\" onclick=\"acalogPopup('content.php?catoid=25&amp;navoid=2207'+((location.search.match(/&amp;print/i)) ? '&amp;print' : '')+'', '16', 770, 530, 'yes');return false;\" target=\"_blank\">English 12</a><span style=\"display: none !important\"> </span> </li> <li>C in <a aria-label=\"English 12 Camosun Alternative opens a new window\" href=\"content.php?catoid=25&amp;navoid=2230#course-alternatives\" onclick=\"acalogPopup('content.php?catoid=25&amp;navoid=2230'+((location.search.match(/&amp;print/i)) ? '&amp;print' : '')+'#course-alternatives', '16', 770, 530, 'yes');return false;\" target=\"_blank\">English 12 Camosun Alternative</a><span style=\"display: none !important\"> </span>   </li> </ul> <p><strong>One of:</strong></p> <ul> <li>C+ in <a aria-label=\"Anatomy and Physiology 12 opens a new window\" href=\"content.php?catoid=25&amp;navoid=2210\" onclick=\"acalogPopup('content.php?catoid=25&amp;navoid=2210'+((location.search.match(/&amp;print/i)) ? '&amp;print' : '')+'', '16', 770, 530, 'yes');return false;\" target=\"_blank\">Anatomy and Physiology 12</a><span style=\"display: none !important\"> </span> </li> <li>C+ in <a aria-label=\"Anatomy and Physiology 12 Camosun Alternative opens a new window\" href=\"content.php?catoid=25&amp;navoid=2230#course-alternatives\" onclick=\"acalogPopup('content.php?catoid=25&amp;navoid=2230'+((location.search.match(/&amp;print/i)) ? '&amp;print' : '')+'#course-alternatives', '16', 770, 530, 'yes');return false;\" target=\"_blank\">Anatomy and Physiology 12 Camosun Alternative</a><span style=\"display: none !important\"> </span>  </li> </ul> <p><strong>One of:</strong></p> <ul> <li>C in <a aria-label=\"Chemistry 11 opens a new window\" href=\"content.php?catoid=25&amp;navoid=2251\" onclick=\"acalogPopup('content.php?catoid=25&amp;navoid=2251'+((location.search.match(/&amp;print/i)) ? '&amp;print' : '')+'', '16', 770, 530, 'yes');return false;\" target=\"_blank\">Chemistry 11</a><span style=\"display: none !important\"> </span>   </li> <li>C in <a aria-label=\"Chemistry 11 Camosun Alternative opens a new window\" href=\"content.php?catoid=25&amp;navoid=2230#course-alternatives\" onclick=\"acalogPopup('content.php?catoid=25&amp;navoid=2230'+((location.search.match(/&amp;print/i)) ? '&amp;print' : '')+'#course-alternatives', '16', 770, 530, 'yes');return false;\" target=\"_blank\">Chemistry 11 Camosun Alternative</a><span style=\"display: none !important\"> </span>   </li> </ul> <p><strong>And one of:</strong></p> <ul> <li>C+ in <a aria-label=\"Math 11 opens a new window\" href=\"content.php?catoid=25&amp;navoid=2212\" onclick=\"acalogPopup('content.php?catoid=25&amp;navoid=2212'+((location.search.match(/&amp;print/i)) ? '&amp;print' : '')+'', '16', 770, 530, 'yes');return false;\" target=\"_blank\">Math 11</a><span style=\"display: none !important\"> </span> </li> <li>C+ in <a href=\"preview_course_nopop.php?catoid=25&amp;coid=45628\" id=\"tt7479\" onclick=\"acalogPopup('preview_course.php?catoid=25&amp;coid=45628&amp;print', '3', 770, 530, 'yes');return false;\" rel=\"remote /ajax/preview_course.php?catoid=25&amp;coid=45628&amp;display_options[location]=tooltip&amp;show\" target=\"_blank\">MATH 073</a><span style=\"display: none !important\"> </span> </li> <li>C+ in <a href=\"preview_course_nopop.php?catoid=25&amp;coid=45624\" id=\"tt6738\" onclick=\"acalogPopup('preview_course.php?catoid=25&amp;coid=45624&amp;print', '3', 770, 530, 'yes');return false;\" rel=\"remote /ajax/preview_course.php?catoid=25&amp;coid=45624&amp;display_options[location]=tooltip&amp;show\" target=\"_blank\">MATH 075</a><span style=\"display: none !important\"> </span> </li> <li>C+ in <a href=\"preview_course_nopop.php?catoid=25&amp;coid=45625\" id=\"tt2506\" onclick=\"acalogPopup('preview_course.php?catoid=25&amp;coid=45625&amp;print', '3', 770, 530, 'yes');return false;\" rel=\"remote /ajax/preview_course.php?catoid=25&amp;coid=45625&amp;display_options[location]=tooltip&amp;show\" target=\"_blank\">MATH 077</a><span style=\"display: none !important\"> </span> </li> </ul> <p><strong>Note:</strong> Acceptance to the Bachelor of Athletic and Exercise Therapy Program is based on the cumulative grade point average (GPA) for the above four courses. The minimum cumulative GPA to qualify for consideration is a “B” grade or equivalent.</p></div><div class=\"acalog-core\"><h2><a name=\"LearningOutcomes\"></a><a id=\"core_79676\" name=\"learningoutcomes\"></a>Learning Outcomes</h2><hr/><p><strong>Upon successful completion of this program, the learner will be able to </strong></p> <ol start=\"1\"> <li>Develop and implement preventative and rehabilitative programs for acute and chronic injuries</li> <li>Educate and counsel on matters pertaining to the physical, psychological, and emotional health and well-being of the client </li> <li>Determine the need for and provide advanced care for sports-related emergency conditions</li> <li>Synthesize and apply knowledge of anatomy, physiology, and pathophysiology for assessment, treatment, and care for orthopedic conditions and diseases</li> <li>Apply critical thinking and use evidence-informed decision-making to provide safe and effective care</li> <li>Administer appropriate assessments and testing techniques to determine physical fitness in order to optimize performance and function</li> <li>Communicate and collaborate with coaches, athletes, and other members of the multi-disciplinary team within field and clinical settings</li> <li>Provide culturally safe and equitable care to diverse populations in the context of athletic and exercise therapy</li> <li>Apply ethical principles and standards to professional practice and maintain individual accountability</li> <li>Advocate for the health and well-being of clients and champion the needs of the profession</li> </ol></div><div class=\"acalog-core\"><h2><a name=\"Curriculum\"></a><a id=\"core_79677\" name=\"curriculum\"></a>Curriculum</h2><hr/></div><div class=\"custom_leftpad_20\"><div class=\"acalog-core\"><h3><a name=\"YearOne\"></a><a id=\"core_79678\" name=\"yearone\"></a>Year One</h3><hr/></div><div class=\"custom_leftpad_20\"><div class=\"acalog-core\"><h4><a name=\"AcademicTermOne\"></a><a id=\"core_79680\" name=\"academictermone\"></a>Academic Term One</h4><hr/></div><div class=\"custom_leftpad_20\"><div class=\"acalog-core\"><h5><a name=\"AllOf\"></a><a id=\"core_79679\" name=\"allof\"></a>All of:</h5><hr/><ul><li class=\"acalog-course\"><span><a aria-expanded=\"false\" href=\"#\" onclick=\"showCourse('25', '44733',this, 'a:2:{s:8:~location~;s:7:~program~;s:4:~core~;s:5:~79679~;}'); return false;\">BIOL 150 - Human Anatomy</a> <strong>Credits:</strong> 3</span></li><li class=\"acalog-course\"><span><a aria-expanded=\"false\" href=\"#\" onclick=\"showCourse('25', '45228',this, 'a:2:{s:8:~location~;s:7:~program~;s:4:~core~;s:5:~79679~;}'); return false;\">ENGL 151 - Academic Writing Strategies</a> <strong>Credits:</strong> 3 *</span></li><li class=\"acalog-course\"><span><a aria-expanded=\"false\" href=\"#\" onclick=\"showCourse('25', '45315',this, 'a:2:{s:8:~location~;s:7:~program~;s:4:~core~;s:5:~79679~;}'); return false;\">KIN 220 - Resistance Training &amp; Group Exercise Instruction</a> <strong>Credits:</strong> 3</span></li><li class=\"acalog-course\"><span><a aria-expanded=\"false\" href=\"#\" onclick=\"showCourse('25', '45899',this, 'a:2:{s:8:~location~;s:7:~program~;s:4:~core~;s:5:~79679~;}'); return false;\">PHYS 160 - Biomechanics of Sport</a> <strong>Credits:</strong> 3</span></li><li class=\"acalog-course\"><span><a aria-expanded=\"false\" href=\"#\" onclick=\"showCourse('25', '45954',this, 'a:2:{s:8:~location~;s:7:~program~;s:4:~core~;s:5:~79679~;}'); return false;\">PSYC 160 - Sport &amp; Exercise Psychology 1</a> <strong>Credits:</strong> 3</span></li></ul></div></div><div class=\"acalog-core\"><h4><a name=\"AcademicTermTwo\"></a><a id=\"core_79681\" name=\"academictermtwo\"></a>Academic Term Two</h4><hr/></div><div class=\"custom_leftpad_20\"><div class=\"acalog-core\"><h5><a name=\"AllOf\"></a><a id=\"core_79682\" name=\"allof\"></a>All of:</h5><hr/><ul><li class=\"acalog-course\"><span><a aria-expanded=\"false\" href=\"#\" onclick=\"showCourse('25', '44695',this, 'a:2:{s:8:~location~;s:7:~program~;s:4:~core~;s:5:~79682~;}'); return false;\">AET 201 - Placement 1</a> <strong>Credits:</strong> 3</span></li><li class=\"acalog-course\"><span><a aria-expanded=\"false\" href=\"#\" onclick=\"showCourse('25', '44697',this, 'a:2:{s:8:~location~;s:7:~program~;s:4:~core~;s:5:~79682~;}'); return false;\">AET 260 - Emergency Conditions 1</a> <strong>Credits:</strong> 3</span></li><li class=\"acalog-course\"><span><a aria-expanded=\"false\" href=\"#\" onclick=\"showCourse('25', '44699',this, 'a:2:{s:8:~location~;s:7:~program~;s:4:~core~;s:5:~79682~;}'); return false;\">AET 272 - Field Prevention/Injury Care 1</a> <strong>Credits:</strong> 3</span></li><li class=\"acalog-course\"><span><a aria-expanded=\"false\" href=\"#\" onclick=\"showCourse('25', '44734',this, 'a:2:{s:8:~location~;s:7:~program~;s:4:~core~;s:5:~79682~;}'); return false;\">BIOL 151 - Human Physiology</a> <strong>Credits:</strong> 3</span></li><li class=\"acalog-course\"><span><a aria-expanded=\"false\" href=\"#\" onclick=\"showCourse('25', '45316',this, 'a:2:{s:8:~location~;s:7:~program~;s:4:~core~;s:5:~79682~;}'); return false;\">KIN 230 - Behavioural Fitness</a> <strong>Credits:</strong> 3</span></li></ul></div></div><div class=\"acalog-core\"><h4><a name=\"Note\"></a><a id=\"core_81101\" name=\"note\"></a>Note:</h4><hr/><p><em><strong>* </strong></em>Student may use <a href=\"preview_course_nopop.php?catoid=25&amp;coid=45229\" id=\"tt8003\" onclick=\"acalogPopup('preview_course.php?catoid=25&amp;coid=45229&amp;print', '3', 770, 530, 'yes');return false;\" rel=\"remote /ajax/preview_course.php?catoid=25&amp;coid=45229&amp;display_options[location]=tooltip&amp;show\" target=\"_blank\">ENGL 161</a><span style=\"display: none !important\"> </span> or <a href=\"preview_course_nopop.php?catoid=25&amp;coid=45230\" id=\"tt8711\" onclick=\"acalogPopup('preview_course.php?catoid=25&amp;coid=45230&amp;print', '3', 770, 530, 'yes');return false;\" rel=\"remote /ajax/preview_course.php?catoid=25&amp;coid=45230&amp;display_options[location]=tooltip&amp;show\" target=\"_blank\">ENGL 163</a><span style=\"display: none !important\"> </span> or <a href=\"preview_course_nopop.php?catoid=25&amp;coid=45231\" id=\"tt1932\" onclick=\"acalogPopup('preview_course.php?catoid=25&amp;coid=45231&amp;print', '3', 770, 530, 'yes');return false;\" rel=\"remote /ajax/preview_course.php?catoid=25&amp;coid=45231&amp;display_options[location]=tooltip&amp;show\" target=\"_blank\">ENGL 164</a><span style=\"display: none !important\"> </span> in lieu of <a href=\"preview_course_nopop.php?catoid=25&amp;coid=45228\" id=\"tt4863\" onclick=\"acalogPopup('preview_course.php?catoid=25&amp;coid=45228&amp;print', '3', 770, 530, 'yes');return false;\" rel=\"remote /ajax/preview_course.php?catoid=25&amp;coid=45228&amp;display_options[location]=tooltip&amp;show\" target=\"_blank\">ENGL 151</a><span style=\"display: none !important\"> </span> toward program completion.</p></div></div><div class=\"acalog-core\"><h3><a name=\"YearTwo\"></a><a id=\"core_79683\" name=\"yeartwo\"></a>Year Two</h3><hr/></div><div class=\"custom_leftpad_20\"><div class=\"acalog-core\"><h4><a name=\"AcademicTermThree\"></a><a id=\"core_79684\" name=\"academictermthree\"></a>Academic Term Three</h4><hr/></div><div class=\"custom_leftpad_20\"><div class=\"acalog-core\"><h5><a name=\"AllOf\"></a><a id=\"core_79685\" name=\"allof\"></a>All of:</h5><hr/><ul><li class=\"acalog-course\"><span><a aria-expanded=\"false\" href=\"#\" onclick=\"showCourse('25', '46612',this, 'a:2:{s:8:~location~;s:7:~program~;s:4:~core~;s:5:~79685~;}'); return false;\">AET 265 - Musculoskeletal Anatomy</a> <strong>Credits:</strong> 3</span></li><li class=\"acalog-course\"><span><a aria-expanded=\"false\" href=\"#\" onclick=\"showCourse('25', '44704',this, 'a:2:{s:8:~location~;s:7:~program~;s:4:~core~;s:5:~79685~;}'); return false;\">AET 320 - Human Motor Control</a> <strong>Credits:</strong> 3</span></li><li class=\"acalog-course\"><span><a aria-expanded=\"false\" href=\"#\" onclick=\"showCourse('25', '46048',this, 'a:2:{s:8:~location~;s:7:~program~;s:4:~core~;s:5:~79685~;}'); return false;\">KIN 210 - Exercise Physiology</a> <strong>Credits:</strong> 3</span></li><li class=\"acalog-course\"><span><a aria-expanded=\"false\" href=\"#\" onclick=\"showCourse('25', '45317',this, 'a:2:{s:8:~location~;s:7:~program~;s:4:~core~;s:5:~79685~;}'); return false;\">KIN 240 - Fitness &amp; Health Assessment</a> <strong>Credits:</strong> 3</span></li><li class=\"acalog-course\"><span><a aria-expanded=\"false\" href=\"#\" onclick=\"showCourse('25', '46054',this, 'a:2:{s:8:~location~;s:7:~program~;s:4:~core~;s:5:~79685~;}'); return false;\">KIN 310 - Research Methods</a> <strong>Credits:</strong> 3</span></li></ul></div></div><div class=\"acalog-core\"><h4><a name=\"AcademicTermFour\"></a><a id=\"core_79686\" name=\"academictermfour\"></a>Academic Term Four</h4><hr/></div><div class=\"custom_leftpad_20\"><div class=\"acalog-core\"><h5><a name=\"AllOf\"></a><a id=\"core_79687\" name=\"allof\"></a>All of:</h5><hr/><ul><li class=\"acalog-course\"><span><a aria-expanded=\"false\" href=\"#\" onclick=\"showCourse('25', '44696',this, 'a:2:{s:8:~location~;s:7:~program~;s:4:~core~;s:5:~79687~;}'); return false;\">AET 202 - Placement 2</a> <strong>Credits:</strong> 3</span></li><li class=\"acalog-course\"><span><a aria-expanded=\"false\" href=\"#\" onclick=\"showCourse('25', '44703',this, 'a:2:{s:8:~location~;s:7:~program~;s:4:~core~;s:5:~79687~;}'); return false;\">AET 310 - Pathophysiology</a> <strong>Credits:</strong> 3</span></li><li class=\"acalog-course\"><span><a aria-expanded=\"false\" href=\"#\" onclick=\"showCourse('25', '44821',this, 'a:2:{s:8:~location~;s:7:~program~;s:4:~core~;s:5:~79687~;}'); return false;\">CHEM 214 - Nutrition for Fitness</a> <strong>Credits:</strong> 3</span></li><li class=\"acalog-course\"><span><a aria-expanded=\"false\" href=\"#\" onclick=\"showCourse('25', '45318',this, 'a:2:{s:8:~location~;s:7:~program~;s:4:~core~;s:5:~79687~;}'); return false;\">KIN 241 - Exercise Prescription &amp; Design</a> <strong>Credits:</strong> 3</span></li><li class=\"acalog-course\"><span><a aria-expanded=\"false\" href=\"#\" onclick=\"showCourse('25', '46052',this, 'a:2:{s:8:~location~;s:7:~program~;s:4:~core~;s:5:~79687~;}'); return false;\">KIN 341 - Training for Performance</a> <strong>Credits:</strong> 3</span></li></ul></div></div></div><div class=\"acalog-core\"><h3><a name=\"YearThree\"></a><a id=\"core_79688\" name=\"yearthree\"></a>Year Three</h3><hr/></div><div class=\"custom_leftpad_20\"><div class=\"acalog-core\"><h4><a name=\"AcademicTermFive\"></a><a id=\"core_79689\" name=\"academictermfive\"></a>Academic Term Five</h4><hr/></div><div class=\"custom_leftpad_20\"><div class=\"acalog-core\"><h5><a name=\"AllOf\"></a><a id=\"core_79690\" name=\"allof\"></a>All of:</h5><hr/><ul><li class=\"acalog-course\"><span><a aria-expanded=\"false\" href=\"#\" onclick=\"showCourse('25', '44698',this, 'a:2:{s:8:~location~;s:7:~program~;s:4:~core~;s:5:~79690~;}'); return false;\">AET 261 - Emergency Conditions 2</a> <strong>Credits:</strong> 3</span></li><li class=\"acalog-course\"><span><a aria-expanded=\"false\" href=\"#\" onclick=\"showCourse('25', '44700',this, 'a:2:{s:8:~location~;s:7:~program~;s:4:~core~;s:5:~79690~;}'); return false;\">AET 273 - Field Prevention/Injury Care 2</a> <strong>Credits:</strong> 3</span></li><li class=\"acalog-course\"><span><a aria-expanded=\"false\" href=\"#\" onclick=\"showCourse('25', '44701',this, 'a:2:{s:8:~location~;s:7:~program~;s:4:~core~;s:5:~79690~;}'); return false;\">AET 301 - Placement 3</a> <strong>Credits:</strong> 6</span></li><li class=\"acalog-course\"><span><a aria-expanded=\"false\" href=\"#\" onclick=\"showCourse('25', '46613',this, 'a:2:{s:8:~location~;s:7:~program~;s:4:~core~;s:5:~79690~;}'); return false;\">AET 365 - Applied Musculoskeletal Anatomy</a> <strong>Credits:</strong> 3</span></li><li class=\"acalog-course\"><span><a aria-expanded=\"false\" href=\"#\" onclick=\"showCourse('25', '44708',this, 'a:2:{s:8:~location~;s:7:~program~;s:4:~core~;s:5:~79690~;}'); return false;\">AET 381 - Clinical Skills 1 Assessment of Orthopedic Injuries</a> <strong>Credits:</strong> 3</span></li></ul></div></div><div class=\"acalog-core\"><h4><a name=\"AcademicTermSix\"></a><a id=\"core_79691\" name=\"academictermsix\"></a>Academic Term Six</h4><hr/></div><div class=\"custom_leftpad_20\"><div class=\"acalog-core\"><h5><a name=\"AllOf\"></a><a id=\"core_79692\" name=\"allof\"></a>All of:</h5><hr/><ul><li class=\"acalog-course\"><span><a aria-expanded=\"false\" href=\"#\" onclick=\"showCourse('25', '44702',this, 'a:2:{s:8:~location~;s:7:~program~;s:4:~core~;s:5:~79692~;}'); return false;\">AET 302 - Placement 4</a> <strong>Credits:</strong> 6</span></li><li class=\"acalog-course\"><span><a aria-expanded=\"false\" href=\"#\" onclick=\"showCourse('25', '44705',this, 'a:2:{s:8:~location~;s:7:~program~;s:4:~core~;s:5:~79692~;}'); return false;\">AET 330 - Therapeutic Modalities</a> <strong>Credits:</strong> 3</span></li><li class=\"acalog-course\"><span><a aria-expanded=\"false\" href=\"#\" onclick=\"showCourse('25', '44714',this, 'a:2:{s:8:~location~;s:7:~program~;s:4:~core~;s:5:~79692~;}'); return false;\">AET 440 - Anatomy of the Spine</a> <strong>Credits:</strong> 3</span></li><li class=\"acalog-course\"><span><a aria-expanded=\"false\" href=\"#\" onclick=\"showCourse('25', '46057',this, 'a:2:{s:8:~location~;s:7:~program~;s:4:~core~;s:5:~79692~;}'); return false;\">AET 470 - Pharmacology and Exercise</a> <strong>Credits:</strong> 3</span></li><li class=\"acalog-course\"><span><a aria-expanded=\"false\" href=\"#\" onclick=\"showCourse('25', '44717',this, 'a:2:{s:8:~location~;s:7:~program~;s:4:~core~;s:5:~79692~;}'); return false;\">AET 482 - Clinical 2 Rehabilitation of Orthopedic Injuries</a> <strong>Credits:</strong> 3</span></li></ul></div></div></div><div class=\"acalog-core\"><h3><a name=\"YearFour\"></a><a id=\"core_79693\" name=\"yearfour\"></a>Year Four</h3><hr/></div><div class=\"custom_leftpad_20\"><div class=\"acalog-core\"><h4><a name=\"AcademicTermSeven\"></a><a id=\"core_79694\" name=\"academictermseven\"></a>Academic Term Seven</h4><hr/></div><div class=\"custom_leftpad_20\"><div class=\"acalog-core\"><h5><a name=\"AllOf\"></a><a id=\"core_79695\" name=\"allof\"></a>All of:</h5><hr/><ul><li class=\"acalog-course\"><span><a aria-expanded=\"false\" href=\"#\" onclick=\"showCourse('25', '44709',this, 'a:2:{s:8:~location~;s:7:~program~;s:4:~core~;s:5:~79695~;}'); return false;\">AET 401 - Placement 5</a> <strong>Credits:</strong> 6</span></li><li class=\"acalog-course\"><span><a aria-expanded=\"false\" href=\"#\" onclick=\"showCourse('25', '44713',this, 'a:2:{s:8:~location~;s:7:~program~;s:4:~core~;s:5:~79695~;}'); return false;\">AET 430 - Concepts of Manual Therapy</a> <strong>Credits:</strong> 3</span></li><li class=\"acalog-course\"><span><a aria-expanded=\"false\" href=\"#\" onclick=\"showCourse('25', '44715',this, 'a:2:{s:8:~location~;s:7:~program~;s:4:~core~;s:5:~79695~;}'); return false;\">AET 450 - Ergonomics</a> <strong>Credits:</strong> 3</span></li><li class=\"acalog-course\"><span><a aria-expanded=\"false\" href=\"#\" onclick=\"showCourse('25', '44716',this, 'a:2:{s:8:~location~;s:7:~program~;s:4:~core~;s:5:~79695~;}'); return false;\">AET 481 - Clinical 3 Spine</a> <strong>Credits:</strong> 3</span></li><li class=\"acalog-course\"><span><a aria-expanded=\"false\" href=\"#\" onclick=\"showCourse('25', '46053',this, 'a:2:{s:8:~location~;s:7:~program~;s:4:~core~;s:5:~79695~;}'); return false;\">KIN 400 - Chronic Disease Management</a> <strong>Credits:</strong> 3</span></li></ul></div></div><div class=\"acalog-core\"><h4><a name=\"AcademicTermEight\"></a><a id=\"core_79696\" name=\"academictermeight\"></a>Academic Term Eight</h4><hr/></div><div class=\"custom_leftpad_20\"><div class=\"acalog-core\"><h5><a name=\"AllOf\"></a><a id=\"core_79697\" name=\"allof\"></a>All of:</h5><hr/><ul><li class=\"acalog-course\"><span><a aria-expanded=\"false\" href=\"#\" onclick=\"showCourse('25', '44710',this, 'a:2:{s:8:~location~;s:7:~program~;s:4:~core~;s:5:~79697~;}'); return false;\">AET 402 - Placement 6</a> <strong>Credits:</strong> 6</span></li><li class=\"acalog-course\"><span><a aria-expanded=\"false\" href=\"#\" onclick=\"showCourse('25', '44712',this, 'a:2:{s:8:~location~;s:7:~program~;s:4:~core~;s:5:~79697~;}'); return false;\">AET 420 - Business Management for Therapists</a> <strong>Credits:</strong> 3</span></li><li class=\"acalog-course\"><span><a aria-expanded=\"false\" href=\"#\" onclick=\"showCourse('25', '46614',this, 'a:2:{s:8:~location~;s:7:~program~;s:4:~core~;s:5:~79697~;}'); return false;\">AET 490 - Athletic Therapy Capstone</a> <strong>Credits:</strong> 3</span></li><li class=\"acalog-adhoc-list-item acalog-adhoc-after\">Two (2) electives -  300 level or higher courses <strong>Credits</strong>: 6*</li></ul></div></div><div class=\"acalog-core\"><h4><a name=\"Note\"></a><a id=\"core_81102\" name=\"note\"></a>Note:</h4><hr/><p>*Electives must be 300 or higher level academic courses. </p></div></div></div><div class=\"acalog-core\"><h2><a name=\"ProgramParticipationRequirements\"></a><a id=\"core_81045\" name=\"programparticipationrequirements\"></a>Program Participation Requirements</h2><hr/><ul> <li>The student must attend the program orientation session scheduled by the Athletic and Exercise Therapy Department. Clear expectation for the program will be addressed at this time.</li> <li>The student is required to submit a portfolio which includes two (2) reference letters addressing ethical and professional capabilities.</li> <li>A Criminal Record Check is required.</li> <li>The student must purchase a Bachelor of Athletic and Exercise Therapy Urgent Care Kit to participate in the AET 260 course.</li> <li>A valid Standard First Aid certificate and a valid BLS (Basic Life Support) certificate, submitted prior to the last day of the term in which the student is registered in AET 260.</li> <li>The student must purchase a Bachelor of Athletic and Exercise Therapy Placement Medical Kit to participate in the AET 301 course.</li> <li>The student must obtain a First Responder Certificate after completing the Emergency Conditions courses (AET 260 and AET 261). Proof of certification is required prior to placement hours in AET 302.</li> </ul> <p><em>                       Please note that the student will be responsible for any costs associated with the Program Participation Requirements listed above.</em></p> <ul> <li>The student is required to apply to the Canadian Athletic Therapists Association (CATA) as a Certification Candidate 18 months prior to graduation from the program. The student will maintain their status throughout the remainder of their course of study in the program at Camosun to be eligible for the CATA certification exam upon graduation.</li> </ul> <p><em>                      The students is responsible for the fees associated with CATA membership and certification.</em></p></div><div class=\"acalog-core\"><h2><a name=\"ProgramCompletionRequirements\"></a><a id=\"core_81044\" name=\"programcompletionrequirements\"></a>Program Completion Requirements</h2><hr/><ul> <li> <p>A minimum GPA of 3.0 (C+) is required to graduate from the program.</p> </li> <li> <p>Must obtain a minimum of a C grade in each course.</p> </li> </ul></div><div class=\"acalog-core\"><h2><a name=\"AdditionalInformation\"></a><a id=\"core_79698\" name=\"additionalinformation\"></a>Additional Information</h2><hr/><ul> <li>The student who completes the four-year program and graduates with the Bachelor of Athletic and Exercise Therapy credential is eligible to sit the examination process for the Canadian Athletic Therapy Association. Completing the BAET program and obtaining the credential does not automatically allow graduates to be registered and/or licensed as CATA Certified Athletic Therapists.  Graduates must apply for and successfully pass the CATA certification exam to become Certified Athletic Therapists CAT(C).</li> <li>The work environment in which the student will be employed requires demanding lifting and moving techniques and extensive hand washing.</li> <li>Due to the nature of the Bachelor of Athletic and Exercise Therapy program scope and sequence of coursework and the pre requisite linkages among courses it is highly recommended that a student who wished to do the program in more than 4 years connect with Bachelor of Athletic and Exercise Therapy Program Leader to establish a Personal Learning Plan.</li> <li>Graduates of the Bachelor of Athletic and Exercise Therapy program can also seek with this bachelor’s degree, beyond the CATA certification as an Athletic Therapist, the following certificates:</li> </ul> <p>                     CSEP - Certified Clinical Exercise Physiologists</p> <p>                     CSEP - High Performance Specialist</p> <p>                     NSCA - Certified Strength and Conditioning Specialist</p> <p>                     BCAK - Member of the BC Association of Kinesiologists</p> <p>The student is responsible for covering the fees for gaining the certifications.</p></div></div> </td>\n",
       "</tr>\n",
       "</table>\n",
       "<div class=\"tooltip for_tt7479\" style=\"display: none; z-index: 1000;\"></div><div class=\"tooltip for_tt6738\" style=\"display: none; z-index: 1000;\"></div><div class=\"tooltip for_tt2506\" style=\"display: none; z-index: 1000;\"></div><div class=\"tooltip for_tt8003\" style=\"display: none; z-index: 1000;\"></div><div class=\"tooltip for_tt8711\" style=\"display: none; z-index: 1000;\"></div><div class=\"tooltip for_tt1932\" style=\"display: none; z-index: 1000;\"></div><div class=\"tooltip for_tt4863\" style=\"display: none; z-index: 1000;\"></div><br/><hr/><div style=\"float: right\"> <a class=\"acalog_top_link acalog-highlight-ignore\" href=\"javascript:void(0);\">Back to Top</a> | <a alt=\"Text Version\" class=\"print_link acalog-highlight-ignore\" href=\"/preview_program.php?catoid=25&amp;poid=3954&amp;print\" onclick=\"acalogPopup('/preview_program.php?catoid=25&amp;poid=3954&amp;print', 'print_preview', 770, 530, 'yes');return false;\" rel=\"nofollow\" target=\"_blank\" title=\"Print-Friendly Page (opens a new window)\"><span class=\"sr-only\">Print-Friendly Page (opens a new window)</span></a></div><div class=\"acalog-social-media-links float_right\">\n",
       "<div class=\"gateway-toolbar-facebook\">\n",
       "<a href=\"http://www.facebook.com/sharer/sharer.php?u=http%3A%2F%2Fcalendar.camosun.ca%2Fpreview_program.php%3Fcatoid%3D25%26poid%3D3954&amp;t=I just discovered 'Athletic and Exercise Therapy (Bachelor's Degree)' at Camosun College\" target=\"_blank\" title=\"Facebook this Page (opens a new window)\">\n",
       "<span class=\"sr-only\">Facebook this Page (opens a new window)</span>\n",
       "</a>\n",
       "</div>\n",
       "<div class=\"gateway-toolbar-twitter\">\n",
       "<a href=\"http://twitter.com/intent/tweet?u=u=http%3A%2F%2Fcalendar.camosun.ca%2Fpreview_program.php%3Fcatoid%3D25%26poid%3D3954&amp;t=Check out this program at Camosun College\" target=\"_blank\" title=\"Tweet this Page (opens a new window)\">\n",
       "<span class=\"sr-only\">Tweet this Page (opens a new window)</span>\n",
       "</a>\n",
       "</div></div> </td>"
      ]
     },
     "execution_count": 4,
     "metadata": {},
     "output_type": "execute_result"
    }
   ],
   "source": [
    "content_div"
   ]
  },
  {
   "cell_type": "code",
   "execution_count": 5,
   "id": "53430b5f",
   "metadata": {},
   "outputs": [
    {
     "data": {
      "text/plain": [
       "<table border=\"0\" cellpadding=\"1\" cellspacing=\"1\" style=\"width:100%\">\n",
       "<tbody>\n",
       "<tr>\n",
       "<td style=\"width:20%\">Total Credits:</td>\n",
       "<td style=\"width:80%\">132</td>\n",
       "</tr>\n",
       "<tr>\n",
       "<td>Credential:</td>\n",
       "<td>Bachelor of Athletic and Exercise Therapy</td>\n",
       "</tr>\n",
       "<tr>\n",
       "<td>Program Code:</td>\n",
       "<td>AET.BDEG</td>\n",
       "</tr>\n",
       "<tr>\n",
       "<td>CIP:</td>\n",
       "<td>51.0913</td>\n",
       "</tr>\n",
       "</tbody>\n",
       "</table>"
      ]
     },
     "execution_count": 5,
     "metadata": {},
     "output_type": "execute_result"
    }
   ],
   "source": [
    "description_table = content_div.select_one('.program_description').select_one('table')\n",
    "description_table"
   ]
  },
  {
   "cell_type": "code",
   "execution_count": 6,
   "id": "b9ae6fce",
   "metadata": {},
   "outputs": [
    {
     "name": "stdout",
     "output_type": "stream",
     "text": [
      "total credits:: 132\n",
      "credential:: Bachelor of Athletic and Exercise Therapy\n",
      "program code:: AET.BDEG\n",
      "cip:: 51.0913\n"
     ]
    }
   ],
   "source": [
    "rows = description_table.select('tr')\n",
    "for row in rows:\n",
    "    cells = row.select('td')\n",
    "    if len(cells) >= 2:\n",
    "        header = clean_text(cells[0].text).lower()\n",
    "        value = clean_text(cells[1].text)\n",
    "        print(f\"{header}: {value}\")"
   ]
  },
  {
   "cell_type": "code",
   "execution_count": 7,
   "id": "6497de6e",
   "metadata": {},
   "outputs": [],
   "source": [
    "def extract_courses(url):\n",
    "    \"\"\"\n",
    "    Extract all courses from a program curriculum page.\n",
    "    \n",
    "    Args:\n",
    "        url (str): URL of the program page\n",
    "        \n",
    "    Returns:\n",
    "        list: List of course information dictionaries with code, title, and credits if available\n",
    "    \"\"\"\n",
    "    soup = get_soup(url)\n",
    "    \n",
    "    # Find the main content area\n",
    "    content_div = soup.select_one('.block_content') or soup.select_one('#gateway_container') or soup.select_one('div.main') or soup\n",
    "    \n",
    "    # Initialize empty list to store course information\n",
    "    courses = []\n",
    "    \n",
    "    # Step 1: Find the curriculum section\n",
    "    curriculum_headings = ['Curriculum', 'Program Content', 'Courses', 'Required Courses']\n",
    "    curriculum_section = None\n",
    "    \n",
    "    for heading in curriculum_headings:\n",
    "        section = content_div.find(['h1', 'h2', 'h3', 'h4'], text=re.compile(f'{heading}', re.IGNORECASE))\n",
    "        if section:\n",
    "            curriculum_section = section\n",
    "            break\n",
    "    \n",
    "    if not curriculum_section:\n",
    "        print(\"No curriculum section found.\")\n",
    "        return courses\n",
    "    \n",
    "    # Step 2: Extract course information at various levels of nesting\n",
    "    # This approach checks multiple levels of nesting until it finds courses\n",
    "    \n",
    "    # Variables to track elements we've checked\n",
    "    checked_elements = set()\n",
    "    \n",
    "    # Function to extract course information from tables\n",
    "    def extract_from_table(table):\n",
    "        table_courses = []\n",
    "        for row in table.select('tr'):\n",
    "            cells = row.select('td')\n",
    "            if len(cells) >= 2:\n",
    "                # Check if first cell looks like a course code (usually format: ABCD 123)\n",
    "                if re.match(r'[A-Z]{2,5}\\s*\\d{3,4}[A-Z]?', clean_text(cells[0].text), re.IGNORECASE):\n",
    "                    course = {\n",
    "                        'code': clean_text(cells[0].text),\n",
    "                        'title': clean_text(cells[1].text),\n",
    "                    }\n",
    "                    # Credits might be in the third column\n",
    "                    if len(cells) > 2:\n",
    "                        credits_text = clean_text(cells[2].text)\n",
    "                        # Try to extract just the number\n",
    "                        credit_match = re.search(r'(\\d+\\.?\\d*)', credits_text)\n",
    "                        course['credits'] = credit_match.group(1) if credit_match else credits_text\n",
    "                    \n",
    "                    table_courses.append(course)\n",
    "        return table_courses\n",
    "    \n",
    "    # Function to extract course information from lists\n",
    "    def extract_from_list(list_elem):\n",
    "        list_courses = []\n",
    "        for li in list_elem.select('li'):\n",
    "            text = clean_text(li.text)\n",
    "            # Look for patterns like \"COURSE 101 - Course Title (3 credits)\"\n",
    "            course_match = re.match(r'([A-Z]{2,5}\\s*\\d{3,4}[A-Z]?)\\s*-?\\s*(.*?)(?:\\s*\\((\\d+\\.?\\d*)\\s*credits?\\))?$', text, re.IGNORECASE)\n",
    "            if course_match:\n",
    "                course = {\n",
    "                    'code': course_match.group(1).strip(),\n",
    "                    'title': course_match.group(2).strip(),\n",
    "                    'credits': course_match.group(3) if course_match.group(3) else ''\n",
    "                }\n",
    "                list_courses.append(course)\n",
    "        return list_courses\n",
    "    \n",
    "    # Function to search elements recursively for course information\n",
    "    def search_for_courses(element, depth=0, max_depth=5):\n",
    "        nonlocal courses\n",
    "        \n",
    "        if depth > max_depth or element is None or id(element) in checked_elements:\n",
    "            return\n",
    "        \n",
    "        # Mark this element as checked\n",
    "        checked_elements.add(id(element))\n",
    "        \n",
    "        # Check if element is a table\n",
    "        if element.name == 'table':\n",
    "            table_courses = extract_from_table(element)\n",
    "            if table_courses:\n",
    "                courses.extend(table_courses)\n",
    "                return\n",
    "        \n",
    "        # Check if element is a list\n",
    "        if element.name in ['ul', 'ol']:\n",
    "            list_courses = extract_from_list(element)\n",
    "            if list_courses:\n",
    "                courses.extend(list_courses)\n",
    "                return\n",
    "        \n",
    "        # Recursively check child elements\n",
    "        for child in element.children:\n",
    "            if hasattr(child, 'name') and child.name is not None:\n",
    "                search_for_courses(child, depth + 1, max_depth)\n",
    "    \n",
    "    # Start searching from the curriculum section\n",
    "    next_elem = curriculum_section.next_sibling\n",
    "    \n",
    "    # Check siblings until we find another heading or run out of siblings\n",
    "    while next_elem:\n",
    "        if hasattr(next_elem, 'name') and next_elem.name in ['h1', 'h2', 'h3', 'h4'] and not re.search('Year', next_elem.text, re.IGNORECASE):\n",
    "            # Stop if we hit another main heading (that's not a Year heading)\n",
    "            break\n",
    "        \n",
    "        # Only process element nodes (not string nodes)\n",
    "        if hasattr(next_elem, 'name') and next_elem.name is not None:\n",
    "            search_for_courses(next_elem, 0, 5)  # Maximum depth of 5 levels\n",
    "        \n",
    "        next_elem = next_elem.next_sibling\n",
    "    \n",
    "    # If no courses found with the first approach, try a different approach\n",
    "    if not courses:\n",
    "        # Try to find divs containing curriculum info after the curriculum heading\n",
    "        section_div = curriculum_section.find_parent('div')\n",
    "        if section_div:\n",
    "            search_for_courses(section_div, 0, 5)\n",
    "    \n",
    "    # If still no courses, search more broadly for tables with course-like content\n",
    "    if not courses:\n",
    "        for table in content_div.select('table'):\n",
    "            table_courses = extract_from_table(table)\n",
    "            if table_courses:\n",
    "                courses.extend(table_courses)\n",
    "    \n",
    "    return courses"
   ]
  },
  {
   "cell_type": "code",
   "execution_count": 8,
   "id": "2b354573",
   "metadata": {},
   "outputs": [
    {
     "name": "stdout",
     "output_type": "stream",
     "text": [
      "No curriculum section found.\n"
     ]
    },
    {
     "name": "stderr",
     "output_type": "stream",
     "text": [
      "C:\\Users\\kuinc\\AppData\\Local\\Temp\\ipykernel_26608\\3859554833.py:24: DeprecationWarning: The 'text' argument to find()-type methods is deprecated. Use 'string' instead.\n",
      "  section = content_div.find(['h1', 'h2', 'h3', 'h4'], text=re.compile(f'{heading}', re.IGNORECASE))\n"
     ]
    },
    {
     "data": {
      "text/plain": [
       "[]"
      ]
     },
     "execution_count": 8,
     "metadata": {},
     "output_type": "execute_result"
    }
   ],
   "source": [
    "extract_courses('https://calendar.camosun.ca/preview_program.php?catoid=25&poid=3954')"
   ]
  },
  {
   "cell_type": "code",
   "execution_count": 41,
   "id": "b9a69892",
   "metadata": {},
   "outputs": [],
   "source": [
    "soup = get_soup('https://calendar.camosun.ca/preview_program.php?catoid=25&poid=3954')\n",
    "\n",
    "# Find the \"Curriculum\" header (usually an h2 or h3 tag)\n",
    "curriculum_header = None\n",
    "for header_tag in ['h2', 'h3', 'h4']:\n",
    "    headers = soup.find_all(header_tag)\n",
    "    for header in headers:\n",
    "        if 'curriculum' in header.get_text(strip=True).lower():\n",
    "            curriculum_header = header\n",
    "            break\n",
    "    if curriculum_header:\n",
    "        break"
   ]
  },
  {
   "cell_type": "code",
   "execution_count": 42,
   "id": "63330335",
   "metadata": {},
   "outputs": [
    {
     "data": {
      "text/plain": [
       "[<li>C+ in <a aria-label=\"English 12 opens a new window\" href=\"content.php?catoid=25&amp;navoid=2207\" onclick=\"acalogPopup('content.php?catoid=25&amp;navoid=2207'+((location.search.match(/&amp;print/i)) ? '&amp;print' : '')+'', '16', 770, 530, 'yes');return false;\" target=\"_blank\">English 12</a><span style=\"display: none !important\"> </span> </li>,\n",
       " <li>C in <a aria-label=\"English 12 Camosun Alternative opens a new window\" href=\"content.php?catoid=25&amp;navoid=2230#course-alternatives\" onclick=\"acalogPopup('content.php?catoid=25&amp;navoid=2230'+((location.search.match(/&amp;print/i)) ? '&amp;print' : '')+'#course-alternatives', '16', 770, 530, 'yes');return false;\" target=\"_blank\">English 12 Camosun Alternative</a><span style=\"display: none !important\"> </span>   </li>,\n",
       " <li>C+ in <a aria-label=\"Anatomy and Physiology 12 opens a new window\" href=\"content.php?catoid=25&amp;navoid=2210\" onclick=\"acalogPopup('content.php?catoid=25&amp;navoid=2210'+((location.search.match(/&amp;print/i)) ? '&amp;print' : '')+'', '16', 770, 530, 'yes');return false;\" target=\"_blank\">Anatomy and Physiology 12</a><span style=\"display: none !important\"> </span> </li>,\n",
       " <li>C+ in <a aria-label=\"Anatomy and Physiology 12 Camosun Alternative opens a new window\" href=\"content.php?catoid=25&amp;navoid=2230#course-alternatives\" onclick=\"acalogPopup('content.php?catoid=25&amp;navoid=2230'+((location.search.match(/&amp;print/i)) ? '&amp;print' : '')+'#course-alternatives', '16', 770, 530, 'yes');return false;\" target=\"_blank\">Anatomy and Physiology 12 Camosun Alternative</a><span style=\"display: none !important\"> </span>  </li>,\n",
       " <li>C in <a aria-label=\"Chemistry 11 opens a new window\" href=\"content.php?catoid=25&amp;navoid=2251\" onclick=\"acalogPopup('content.php?catoid=25&amp;navoid=2251'+((location.search.match(/&amp;print/i)) ? '&amp;print' : '')+'', '16', 770, 530, 'yes');return false;\" target=\"_blank\">Chemistry 11</a><span style=\"display: none !important\"> </span>   </li>,\n",
       " <li>C in <a aria-label=\"Chemistry 11 Camosun Alternative opens a new window\" href=\"content.php?catoid=25&amp;navoid=2230#course-alternatives\" onclick=\"acalogPopup('content.php?catoid=25&amp;navoid=2230'+((location.search.match(/&amp;print/i)) ? '&amp;print' : '')+'#course-alternatives', '16', 770, 530, 'yes');return false;\" target=\"_blank\">Chemistry 11 Camosun Alternative</a><span style=\"display: none !important\"> </span>   </li>,\n",
       " <li>C+ in <a aria-label=\"Math 11 opens a new window\" href=\"content.php?catoid=25&amp;navoid=2212\" onclick=\"acalogPopup('content.php?catoid=25&amp;navoid=2212'+((location.search.match(/&amp;print/i)) ? '&amp;print' : '')+'', '16', 770, 530, 'yes');return false;\" target=\"_blank\">Math 11</a><span style=\"display: none !important\"> </span> </li>,\n",
       " <li>C+ in <a href=\"preview_course_nopop.php?catoid=25&amp;coid=45628\" id=\"tt7479\" onclick=\"acalogPopup('preview_course.php?catoid=25&amp;coid=45628&amp;print', '3', 770, 530, 'yes');return false;\" rel=\"remote /ajax/preview_course.php?catoid=25&amp;coid=45628&amp;display_options[location]=tooltip&amp;show\" target=\"_blank\">MATH 073</a><span style=\"display: none !important\"> </span> </li>,\n",
       " <li>C+ in <a href=\"preview_course_nopop.php?catoid=25&amp;coid=45624\" id=\"tt6738\" onclick=\"acalogPopup('preview_course.php?catoid=25&amp;coid=45624&amp;print', '3', 770, 530, 'yes');return false;\" rel=\"remote /ajax/preview_course.php?catoid=25&amp;coid=45624&amp;display_options[location]=tooltip&amp;show\" target=\"_blank\">MATH 075</a><span style=\"display: none !important\"> </span> </li>,\n",
       " <li>C+ in <a href=\"preview_course_nopop.php?catoid=25&amp;coid=45625\" id=\"tt2506\" onclick=\"acalogPopup('preview_course.php?catoid=25&amp;coid=45625&amp;print', '3', 770, 530, 'yes');return false;\" rel=\"remote /ajax/preview_course.php?catoid=25&amp;coid=45625&amp;display_options[location]=tooltip&amp;show\" target=\"_blank\">MATH 077</a><span style=\"display: none !important\"> </span> </li>,\n",
       " <li class=\"acalog-course\"><span><a aria-expanded=\"false\" href=\"#\" onclick=\"showCourse('25', '44733',this, 'a:2:{s:8:~location~;s:7:~program~;s:4:~core~;s:5:~79679~;}'); return false;\">BIOL 150 - Human Anatomy</a> <strong>Credits:</strong> 3</span></li>,\n",
       " <li class=\"acalog-course\"><span><a aria-expanded=\"false\" href=\"#\" onclick=\"showCourse('25', '45228',this, 'a:2:{s:8:~location~;s:7:~program~;s:4:~core~;s:5:~79679~;}'); return false;\">ENGL 151 - Academic Writing Strategies</a> <strong>Credits:</strong> 3 *</span></li>,\n",
       " <li class=\"acalog-course\"><span><a aria-expanded=\"false\" href=\"#\" onclick=\"showCourse('25', '45315',this, 'a:2:{s:8:~location~;s:7:~program~;s:4:~core~;s:5:~79679~;}'); return false;\">KIN 220 - Resistance Training &amp; Group Exercise Instruction</a> <strong>Credits:</strong> 3</span></li>,\n",
       " <li class=\"acalog-course\"><span><a aria-expanded=\"false\" href=\"#\" onclick=\"showCourse('25', '45899',this, 'a:2:{s:8:~location~;s:7:~program~;s:4:~core~;s:5:~79679~;}'); return false;\">PHYS 160 - Biomechanics of Sport</a> <strong>Credits:</strong> 3</span></li>,\n",
       " <li class=\"acalog-course\"><span><a aria-expanded=\"false\" href=\"#\" onclick=\"showCourse('25', '45954',this, 'a:2:{s:8:~location~;s:7:~program~;s:4:~core~;s:5:~79679~;}'); return false;\">PSYC 160 - Sport &amp; Exercise Psychology 1</a> <strong>Credits:</strong> 3</span></li>,\n",
       " <li class=\"acalog-course\"><span><a aria-expanded=\"false\" href=\"#\" onclick=\"showCourse('25', '44695',this, 'a:2:{s:8:~location~;s:7:~program~;s:4:~core~;s:5:~79682~;}'); return false;\">AET 201 - Placement 1</a> <strong>Credits:</strong> 3</span></li>,\n",
       " <li class=\"acalog-course\"><span><a aria-expanded=\"false\" href=\"#\" onclick=\"showCourse('25', '44697',this, 'a:2:{s:8:~location~;s:7:~program~;s:4:~core~;s:5:~79682~;}'); return false;\">AET 260 - Emergency Conditions 1</a> <strong>Credits:</strong> 3</span></li>,\n",
       " <li class=\"acalog-course\"><span><a aria-expanded=\"false\" href=\"#\" onclick=\"showCourse('25', '44699',this, 'a:2:{s:8:~location~;s:7:~program~;s:4:~core~;s:5:~79682~;}'); return false;\">AET 272 - Field Prevention/Injury Care 1</a> <strong>Credits:</strong> 3</span></li>,\n",
       " <li class=\"acalog-course\"><span><a aria-expanded=\"false\" href=\"#\" onclick=\"showCourse('25', '44734',this, 'a:2:{s:8:~location~;s:7:~program~;s:4:~core~;s:5:~79682~;}'); return false;\">BIOL 151 - Human Physiology</a> <strong>Credits:</strong> 3</span></li>,\n",
       " <li class=\"acalog-course\"><span><a aria-expanded=\"false\" href=\"#\" onclick=\"showCourse('25', '45316',this, 'a:2:{s:8:~location~;s:7:~program~;s:4:~core~;s:5:~79682~;}'); return false;\">KIN 230 - Behavioural Fitness</a> <strong>Credits:</strong> 3</span></li>,\n",
       " <li class=\"acalog-course\"><span><a aria-expanded=\"false\" href=\"#\" onclick=\"showCourse('25', '46612',this, 'a:2:{s:8:~location~;s:7:~program~;s:4:~core~;s:5:~79685~;}'); return false;\">AET 265 - Musculoskeletal Anatomy</a> <strong>Credits:</strong> 3</span></li>,\n",
       " <li class=\"acalog-course\"><span><a aria-expanded=\"false\" href=\"#\" onclick=\"showCourse('25', '44704',this, 'a:2:{s:8:~location~;s:7:~program~;s:4:~core~;s:5:~79685~;}'); return false;\">AET 320 - Human Motor Control</a> <strong>Credits:</strong> 3</span></li>,\n",
       " <li class=\"acalog-course\"><span><a aria-expanded=\"false\" href=\"#\" onclick=\"showCourse('25', '46048',this, 'a:2:{s:8:~location~;s:7:~program~;s:4:~core~;s:5:~79685~;}'); return false;\">KIN 210 - Exercise Physiology</a> <strong>Credits:</strong> 3</span></li>,\n",
       " <li class=\"acalog-course\"><span><a aria-expanded=\"false\" href=\"#\" onclick=\"showCourse('25', '45317',this, 'a:2:{s:8:~location~;s:7:~program~;s:4:~core~;s:5:~79685~;}'); return false;\">KIN 240 - Fitness &amp; Health Assessment</a> <strong>Credits:</strong> 3</span></li>,\n",
       " <li class=\"acalog-course\"><span><a aria-expanded=\"false\" href=\"#\" onclick=\"showCourse('25', '46054',this, 'a:2:{s:8:~location~;s:7:~program~;s:4:~core~;s:5:~79685~;}'); return false;\">KIN 310 - Research Methods</a> <strong>Credits:</strong> 3</span></li>,\n",
       " <li class=\"acalog-course\"><span><a aria-expanded=\"false\" href=\"#\" onclick=\"showCourse('25', '44696',this, 'a:2:{s:8:~location~;s:7:~program~;s:4:~core~;s:5:~79687~;}'); return false;\">AET 202 - Placement 2</a> <strong>Credits:</strong> 3</span></li>,\n",
       " <li class=\"acalog-course\"><span><a aria-expanded=\"false\" href=\"#\" onclick=\"showCourse('25', '44703',this, 'a:2:{s:8:~location~;s:7:~program~;s:4:~core~;s:5:~79687~;}'); return false;\">AET 310 - Pathophysiology</a> <strong>Credits:</strong> 3</span></li>,\n",
       " <li class=\"acalog-course\"><span><a aria-expanded=\"false\" href=\"#\" onclick=\"showCourse('25', '44821',this, 'a:2:{s:8:~location~;s:7:~program~;s:4:~core~;s:5:~79687~;}'); return false;\">CHEM 214 - Nutrition for Fitness</a> <strong>Credits:</strong> 3</span></li>,\n",
       " <li class=\"acalog-course\"><span><a aria-expanded=\"false\" href=\"#\" onclick=\"showCourse('25', '45318',this, 'a:2:{s:8:~location~;s:7:~program~;s:4:~core~;s:5:~79687~;}'); return false;\">KIN 241 - Exercise Prescription &amp; Design</a> <strong>Credits:</strong> 3</span></li>,\n",
       " <li class=\"acalog-course\"><span><a aria-expanded=\"false\" href=\"#\" onclick=\"showCourse('25', '46052',this, 'a:2:{s:8:~location~;s:7:~program~;s:4:~core~;s:5:~79687~;}'); return false;\">KIN 341 - Training for Performance</a> <strong>Credits:</strong> 3</span></li>,\n",
       " <li class=\"acalog-course\"><span><a aria-expanded=\"false\" href=\"#\" onclick=\"showCourse('25', '44698',this, 'a:2:{s:8:~location~;s:7:~program~;s:4:~core~;s:5:~79690~;}'); return false;\">AET 261 - Emergency Conditions 2</a> <strong>Credits:</strong> 3</span></li>,\n",
       " <li class=\"acalog-course\"><span><a aria-expanded=\"false\" href=\"#\" onclick=\"showCourse('25', '44700',this, 'a:2:{s:8:~location~;s:7:~program~;s:4:~core~;s:5:~79690~;}'); return false;\">AET 273 - Field Prevention/Injury Care 2</a> <strong>Credits:</strong> 3</span></li>,\n",
       " <li class=\"acalog-course\"><span><a aria-expanded=\"false\" href=\"#\" onclick=\"showCourse('25', '44701',this, 'a:2:{s:8:~location~;s:7:~program~;s:4:~core~;s:5:~79690~;}'); return false;\">AET 301 - Placement 3</a> <strong>Credits:</strong> 6</span></li>,\n",
       " <li class=\"acalog-course\"><span><a aria-expanded=\"false\" href=\"#\" onclick=\"showCourse('25', '46613',this, 'a:2:{s:8:~location~;s:7:~program~;s:4:~core~;s:5:~79690~;}'); return false;\">AET 365 - Applied Musculoskeletal Anatomy</a> <strong>Credits:</strong> 3</span></li>,\n",
       " <li class=\"acalog-course\"><span><a aria-expanded=\"false\" href=\"#\" onclick=\"showCourse('25', '44708',this, 'a:2:{s:8:~location~;s:7:~program~;s:4:~core~;s:5:~79690~;}'); return false;\">AET 381 - Clinical Skills 1 Assessment of Orthopedic Injuries</a> <strong>Credits:</strong> 3</span></li>,\n",
       " <li class=\"acalog-course\"><span><a aria-expanded=\"false\" href=\"#\" onclick=\"showCourse('25', '44702',this, 'a:2:{s:8:~location~;s:7:~program~;s:4:~core~;s:5:~79692~;}'); return false;\">AET 302 - Placement 4</a> <strong>Credits:</strong> 6</span></li>,\n",
       " <li class=\"acalog-course\"><span><a aria-expanded=\"false\" href=\"#\" onclick=\"showCourse('25', '44705',this, 'a:2:{s:8:~location~;s:7:~program~;s:4:~core~;s:5:~79692~;}'); return false;\">AET 330 - Therapeutic Modalities</a> <strong>Credits:</strong> 3</span></li>,\n",
       " <li class=\"acalog-course\"><span><a aria-expanded=\"false\" href=\"#\" onclick=\"showCourse('25', '44714',this, 'a:2:{s:8:~location~;s:7:~program~;s:4:~core~;s:5:~79692~;}'); return false;\">AET 440 - Anatomy of the Spine</a> <strong>Credits:</strong> 3</span></li>,\n",
       " <li class=\"acalog-course\"><span><a aria-expanded=\"false\" href=\"#\" onclick=\"showCourse('25', '46057',this, 'a:2:{s:8:~location~;s:7:~program~;s:4:~core~;s:5:~79692~;}'); return false;\">AET 470 - Pharmacology and Exercise</a> <strong>Credits:</strong> 3</span></li>,\n",
       " <li class=\"acalog-course\"><span><a aria-expanded=\"false\" href=\"#\" onclick=\"showCourse('25', '44717',this, 'a:2:{s:8:~location~;s:7:~program~;s:4:~core~;s:5:~79692~;}'); return false;\">AET 482 - Clinical 2 Rehabilitation of Orthopedic Injuries</a> <strong>Credits:</strong> 3</span></li>,\n",
       " <li class=\"acalog-course\"><span><a aria-expanded=\"false\" href=\"#\" onclick=\"showCourse('25', '44709',this, 'a:2:{s:8:~location~;s:7:~program~;s:4:~core~;s:5:~79695~;}'); return false;\">AET 401 - Placement 5</a> <strong>Credits:</strong> 6</span></li>,\n",
       " <li class=\"acalog-course\"><span><a aria-expanded=\"false\" href=\"#\" onclick=\"showCourse('25', '44713',this, 'a:2:{s:8:~location~;s:7:~program~;s:4:~core~;s:5:~79695~;}'); return false;\">AET 430 - Concepts of Manual Therapy</a> <strong>Credits:</strong> 3</span></li>,\n",
       " <li class=\"acalog-course\"><span><a aria-expanded=\"false\" href=\"#\" onclick=\"showCourse('25', '44715',this, 'a:2:{s:8:~location~;s:7:~program~;s:4:~core~;s:5:~79695~;}'); return false;\">AET 450 - Ergonomics</a> <strong>Credits:</strong> 3</span></li>,\n",
       " <li class=\"acalog-course\"><span><a aria-expanded=\"false\" href=\"#\" onclick=\"showCourse('25', '44716',this, 'a:2:{s:8:~location~;s:7:~program~;s:4:~core~;s:5:~79695~;}'); return false;\">AET 481 - Clinical 3 Spine</a> <strong>Credits:</strong> 3</span></li>,\n",
       " <li class=\"acalog-course\"><span><a aria-expanded=\"false\" href=\"#\" onclick=\"showCourse('25', '46053',this, 'a:2:{s:8:~location~;s:7:~program~;s:4:~core~;s:5:~79695~;}'); return false;\">KIN 400 - Chronic Disease Management</a> <strong>Credits:</strong> 3</span></li>,\n",
       " <li class=\"acalog-course\"><span><a aria-expanded=\"false\" href=\"#\" onclick=\"showCourse('25', '44710',this, 'a:2:{s:8:~location~;s:7:~program~;s:4:~core~;s:5:~79697~;}'); return false;\">AET 402 - Placement 6</a> <strong>Credits:</strong> 6</span></li>,\n",
       " <li class=\"acalog-course\"><span><a aria-expanded=\"false\" href=\"#\" onclick=\"showCourse('25', '44712',this, 'a:2:{s:8:~location~;s:7:~program~;s:4:~core~;s:5:~79697~;}'); return false;\">AET 420 - Business Management for Therapists</a> <strong>Credits:</strong> 3</span></li>,\n",
       " <li class=\"acalog-course\"><span><a aria-expanded=\"false\" href=\"#\" onclick=\"showCourse('25', '46614',this, 'a:2:{s:8:~location~;s:7:~program~;s:4:~core~;s:5:~79697~;}'); return false;\">AET 490 - Athletic Therapy Capstone</a> <strong>Credits:</strong> 3</span></li>,\n",
       " <li class=\"acalog-adhoc-list-item acalog-adhoc-after\">Two (2) electives -  300 level or higher courses <strong>Credits</strong>: 6*</li>,\n",
       " <li>The student must attend the program orientation session scheduled by the Athletic and Exercise Therapy Department. Clear expectation for the program will be addressed at this time.</li>,\n",
       " <li>The student is required to submit a portfolio which includes two (2) reference letters addressing ethical and professional capabilities.</li>,\n",
       " <li>A Criminal Record Check is required.</li>,\n",
       " <li>The student must purchase a Bachelor of Athletic and Exercise Therapy Urgent Care Kit to participate in the AET 260 course.</li>,\n",
       " <li>A valid Standard First Aid certificate and a valid BLS (Basic Life Support) certificate, submitted prior to the last day of the term in which the student is registered in AET 260.</li>,\n",
       " <li>The student must purchase a Bachelor of Athletic and Exercise Therapy Placement Medical Kit to participate in the AET 301 course.</li>,\n",
       " <li>The student must obtain a First Responder Certificate after completing the Emergency Conditions courses (AET 260 and AET 261). Proof of certification is required prior to placement hours in AET 302.</li>,\n",
       " <li>The student is required to apply to the Canadian Athletic Therapists Association (CATA) as a Certification Candidate 18 months prior to graduation from the program. The student will maintain their status throughout the remainder of their course of study in the program at Camosun to be eligible for the CATA certification exam upon graduation.</li>,\n",
       " <li> <p>A minimum GPA of 3.0 (C+) is required to graduate from the program.</p> </li>,\n",
       " <li> <p>Must obtain a minimum of a C grade in each course.</p> </li>,\n",
       " <li>The student who completes the four-year program and graduates with the Bachelor of Athletic and Exercise Therapy credential is eligible to sit the examination process for the Canadian Athletic Therapy Association. Completing the BAET program and obtaining the credential does not automatically allow graduates to be registered and/or licensed as CATA Certified Athletic Therapists.  Graduates must apply for and successfully pass the CATA certification exam to become Certified Athletic Therapists CAT(C).</li>,\n",
       " <li>The work environment in which the student will be employed requires demanding lifting and moving techniques and extensive hand washing.</li>,\n",
       " <li>Due to the nature of the Bachelor of Athletic and Exercise Therapy program scope and sequence of coursework and the pre requisite linkages among courses it is highly recommended that a student who wished to do the program in more than 4 years connect with Bachelor of Athletic and Exercise Therapy Program Leader to establish a Personal Learning Plan.</li>,\n",
       " <li>Graduates of the Bachelor of Athletic and Exercise Therapy program can also seek with this bachelor’s degree, beyond the CATA certification as an Athletic Therapist, the following certificates:</li>]"
      ]
     },
     "execution_count": 42,
     "metadata": {},
     "output_type": "execute_result"
    }
   ],
   "source": [
    "#courses_list = soup.select('ul .acalog-course')\n",
    "courses_list = soup.select('.acalog-core ul li')\n",
    "courses_list"
   ]
  },
  {
   "cell_type": "code",
   "execution_count": 32,
   "id": "aa8ad5a3",
   "metadata": {},
   "outputs": [
    {
     "data": {
      "text/plain": [
       "0"
      ]
     },
     "execution_count": 32,
     "metadata": {},
     "output_type": "execute_result"
    }
   ],
   "source": [
    "len(courses_list)"
   ]
  },
  {
   "cell_type": "code",
   "execution_count": 49,
   "id": "709d8474",
   "metadata": {},
   "outputs": [],
   "source": [
    "def get_program_courses(url):\n",
    "    \"\"\"\n",
    "    Get all courses from a program page.\n",
    "    \n",
    "    Args:\n",
    "        url (str): URL of the program page\n",
    "        \n",
    "    Returns:\n",
    "        list: List of course information dictionaries with code, title, and credits if available\n",
    "    \"\"\"\n",
    "    soup = get_soup(url)\n",
    "    \n",
    "    courses_list = soup.select('.acalog-core ul li')\n",
    "\n",
    "    courses = []\n",
    "    for element in courses_list:\n",
    "    # Check if the element is a list item\n",
    "        if element.name == 'li':\n",
    "            # Extract the text content\n",
    "            text = clean_text(element.text)\n",
    "            # Look for patterns like \"COURSE 101 - Course Title (3 credits)\"\n",
    "            course_match = re.match(r'([A-Z]{2,5}\\s*\\d{3,4}[A-Z]?)\\s*-?\\s*(.*?)(?:\\s*\\((\\d+\\.?\\d*)\\s*credits?\\))?$', text, re.IGNORECASE)\n",
    "            if course_match:\n",
    "                course_code = course_match.group(1).strip()\n",
    "                course_title = course_match.group(2).strip()\n",
    "                courses.append(f'{course_code} - {course_title}')\n",
    "    return courses"
   ]
  },
  {
   "cell_type": "code",
   "execution_count": 50,
   "id": "09906116",
   "metadata": {},
   "outputs": [
    {
     "data": {
      "text/plain": [
       "['BIOL 150 - Human Anatomy Credits: 3',\n",
       " 'ENGL 151 - Academic Writing Strategies Credits: 3 *',\n",
       " 'KIN 220 - Resistance Training & Group Exercise Instruction Credits: 3',\n",
       " 'PHYS 160 - Biomechanics of Sport Credits: 3',\n",
       " 'PSYC 160 - Sport & Exercise Psychology 1 Credits: 3',\n",
       " 'AET 201 - Placement 1 Credits: 3',\n",
       " 'AET 260 - Emergency Conditions 1 Credits: 3',\n",
       " 'AET 272 - Field Prevention/Injury Care 1 Credits: 3',\n",
       " 'BIOL 151 - Human Physiology Credits: 3',\n",
       " 'KIN 230 - Behavioural Fitness Credits: 3',\n",
       " 'AET 265 - Musculoskeletal Anatomy Credits: 3',\n",
       " 'AET 320 - Human Motor Control Credits: 3',\n",
       " 'KIN 210 - Exercise Physiology Credits: 3',\n",
       " 'KIN 240 - Fitness & Health Assessment Credits: 3',\n",
       " 'KIN 310 - Research Methods Credits: 3',\n",
       " 'AET 202 - Placement 2 Credits: 3',\n",
       " 'AET 310 - Pathophysiology Credits: 3',\n",
       " 'CHEM 214 - Nutrition for Fitness Credits: 3',\n",
       " 'KIN 241 - Exercise Prescription & Design Credits: 3',\n",
       " 'KIN 341 - Training for Performance Credits: 3',\n",
       " 'AET 261 - Emergency Conditions 2 Credits: 3',\n",
       " 'AET 273 - Field Prevention/Injury Care 2 Credits: 3',\n",
       " 'AET 301 - Placement 3 Credits: 6',\n",
       " 'AET 365 - Applied Musculoskeletal Anatomy Credits: 3',\n",
       " 'AET 381 - Clinical Skills 1 Assessment of Orthopedic Injuries Credits: 3',\n",
       " 'AET 302 - Placement 4 Credits: 6',\n",
       " 'AET 330 - Therapeutic Modalities Credits: 3',\n",
       " 'AET 440 - Anatomy of the Spine Credits: 3',\n",
       " 'AET 470 - Pharmacology and Exercise Credits: 3',\n",
       " 'AET 482 - Clinical 2 Rehabilitation of Orthopedic Injuries Credits: 3',\n",
       " 'AET 401 - Placement 5 Credits: 6',\n",
       " 'AET 430 - Concepts of Manual Therapy Credits: 3',\n",
       " 'AET 450 - Ergonomics Credits: 3',\n",
       " 'AET 481 - Clinical 3 Spine Credits: 3',\n",
       " 'KIN 400 - Chronic Disease Management Credits: 3',\n",
       " 'AET 402 - Placement 6 Credits: 6',\n",
       " 'AET 420 - Business Management for Therapists Credits: 3',\n",
       " 'AET 490 - Athletic Therapy Capstone Credits: 3']"
      ]
     },
     "execution_count": 50,
     "metadata": {},
     "output_type": "execute_result"
    }
   ],
   "source": [
    "get_program_courses('https://calendar.camosun.ca/preview_program.php?catoid=25&poid=3954')"
   ]
  },
  {
   "cell_type": "code",
   "execution_count": 48,
   "id": "39f484de",
   "metadata": {},
   "outputs": [
    {
     "name": "stdout",
     "output_type": "stream",
     "text": [
      "Course Code: BIOL 150, Title: Human Anatomy Credits: 3\n",
      "Course Code: ENGL 151, Title: Academic Writing Strategies Credits: 3 *\n",
      "Course Code: KIN 220, Title: Resistance Training & Group Exercise Instruction Credits: 3\n",
      "Course Code: PHYS 160, Title: Biomechanics of Sport Credits: 3\n",
      "Course Code: PSYC 160, Title: Sport & Exercise Psychology 1 Credits: 3\n",
      "Course Code: AET 201, Title: Placement 1 Credits: 3\n",
      "Course Code: AET 260, Title: Emergency Conditions 1 Credits: 3\n",
      "Course Code: AET 272, Title: Field Prevention/Injury Care 1 Credits: 3\n",
      "Course Code: BIOL 151, Title: Human Physiology Credits: 3\n",
      "Course Code: KIN 230, Title: Behavioural Fitness Credits: 3\n",
      "Course Code: AET 265, Title: Musculoskeletal Anatomy Credits: 3\n",
      "Course Code: AET 320, Title: Human Motor Control Credits: 3\n",
      "Course Code: KIN 210, Title: Exercise Physiology Credits: 3\n",
      "Course Code: KIN 240, Title: Fitness & Health Assessment Credits: 3\n",
      "Course Code: KIN 310, Title: Research Methods Credits: 3\n",
      "Course Code: AET 202, Title: Placement 2 Credits: 3\n",
      "Course Code: AET 310, Title: Pathophysiology Credits: 3\n",
      "Course Code: CHEM 214, Title: Nutrition for Fitness Credits: 3\n",
      "Course Code: KIN 241, Title: Exercise Prescription & Design Credits: 3\n",
      "Course Code: KIN 341, Title: Training for Performance Credits: 3\n",
      "Course Code: AET 261, Title: Emergency Conditions 2 Credits: 3\n",
      "Course Code: AET 273, Title: Field Prevention/Injury Care 2 Credits: 3\n",
      "Course Code: AET 301, Title: Placement 3 Credits: 6\n",
      "Course Code: AET 365, Title: Applied Musculoskeletal Anatomy Credits: 3\n",
      "Course Code: AET 381, Title: Clinical Skills 1 Assessment of Orthopedic Injuries Credits: 3\n",
      "Course Code: AET 302, Title: Placement 4 Credits: 6\n",
      "Course Code: AET 330, Title: Therapeutic Modalities Credits: 3\n",
      "Course Code: AET 440, Title: Anatomy of the Spine Credits: 3\n",
      "Course Code: AET 470, Title: Pharmacology and Exercise Credits: 3\n",
      "Course Code: AET 482, Title: Clinical 2 Rehabilitation of Orthopedic Injuries Credits: 3\n",
      "Course Code: AET 401, Title: Placement 5 Credits: 6\n",
      "Course Code: AET 430, Title: Concepts of Manual Therapy Credits: 3\n",
      "Course Code: AET 450, Title: Ergonomics Credits: 3\n",
      "Course Code: AET 481, Title: Clinical 3 Spine Credits: 3\n",
      "Course Code: KIN 400, Title: Chronic Disease Management Credits: 3\n",
      "Course Code: AET 402, Title: Placement 6 Credits: 6\n",
      "Course Code: AET 420, Title: Business Management for Therapists Credits: 3\n",
      "Course Code: AET 490, Title: Athletic Therapy Capstone Credits: 3\n"
     ]
    }
   ],
   "source": [
    "for element in courses_list:\n",
    "    # Check if the element is a list item\n",
    "    if element.name == 'li':\n",
    "        # Extract the text content\n",
    "        text = clean_text(element.text)\n",
    "        # Look for patterns like \"COURSE 101 - Course Title (3 credits)\"\n",
    "        course_match = re.match(r'([A-Z]{2,5}\\s*\\d{3,4}[A-Z]?)\\s*-?\\s*(.*?)(?:\\s*\\((\\d+\\.?\\d*)\\s*credits?\\))?$', text, re.IGNORECASE)\n",
    "        if course_match:\n",
    "            course_code = course_match.group(1).strip()\n",
    "            course_title = course_match.group(2).strip()\n",
    "            print(f\"Course Code: {course_code}, Title: {course_title}\")"
   ]
  },
  {
   "cell_type": "code",
   "execution_count": 16,
   "id": "0d011994",
   "metadata": {},
   "outputs": [
    {
     "data": {
      "text/plain": [
       "<div class=\"custom_leftpad_20\"><div class=\"acalog-core\"><h3><a name=\"YearOne\"></a><a id=\"core_79678\" name=\"yearone\"></a>Year One</h3><hr/></div><div class=\"custom_leftpad_20\"><div class=\"acalog-core\"><h4><a name=\"AcademicTermOne\"></a><a id=\"core_79680\" name=\"academictermone\"></a>Academic Term One</h4><hr/></div><div class=\"custom_leftpad_20\"><div class=\"acalog-core\"><h5><a name=\"AllOf\"></a><a id=\"core_79679\" name=\"allof\"></a>All of:</h5><hr/><ul><li class=\"acalog-course\"><span><a aria-expanded=\"false\" href=\"#\" onclick=\"showCourse('25', '44733',this, 'a:2:{s:8:~location~;s:7:~program~;s:4:~core~;s:5:~79679~;}'); return false;\">BIOL 150 - Human Anatomy</a> <strong>Credits:</strong> 3</span></li><li class=\"acalog-course\"><span><a aria-expanded=\"false\" href=\"#\" onclick=\"showCourse('25', '45228',this, 'a:2:{s:8:~location~;s:7:~program~;s:4:~core~;s:5:~79679~;}'); return false;\">ENGL 151 - Academic Writing Strategies</a> <strong>Credits:</strong> 3 *</span></li><li class=\"acalog-course\"><span><a aria-expanded=\"false\" href=\"#\" onclick=\"showCourse('25', '45315',this, 'a:2:{s:8:~location~;s:7:~program~;s:4:~core~;s:5:~79679~;}'); return false;\">KIN 220 - Resistance Training &amp; Group Exercise Instruction</a> <strong>Credits:</strong> 3</span></li><li class=\"acalog-course\"><span><a aria-expanded=\"false\" href=\"#\" onclick=\"showCourse('25', '45899',this, 'a:2:{s:8:~location~;s:7:~program~;s:4:~core~;s:5:~79679~;}'); return false;\">PHYS 160 - Biomechanics of Sport</a> <strong>Credits:</strong> 3</span></li><li class=\"acalog-course\"><span><a aria-expanded=\"false\" href=\"#\" onclick=\"showCourse('25', '45954',this, 'a:2:{s:8:~location~;s:7:~program~;s:4:~core~;s:5:~79679~;}'); return false;\">PSYC 160 - Sport &amp; Exercise Psychology 1</a> <strong>Credits:</strong> 3</span></li></ul></div></div><div class=\"acalog-core\"><h4><a name=\"AcademicTermTwo\"></a><a id=\"core_79681\" name=\"academictermtwo\"></a>Academic Term Two</h4><hr/></div><div class=\"custom_leftpad_20\"><div class=\"acalog-core\"><h5><a name=\"AllOf\"></a><a id=\"core_79682\" name=\"allof\"></a>All of:</h5><hr/><ul><li class=\"acalog-course\"><span><a aria-expanded=\"false\" href=\"#\" onclick=\"showCourse('25', '44695',this, 'a:2:{s:8:~location~;s:7:~program~;s:4:~core~;s:5:~79682~;}'); return false;\">AET 201 - Placement 1</a> <strong>Credits:</strong> 3</span></li><li class=\"acalog-course\"><span><a aria-expanded=\"false\" href=\"#\" onclick=\"showCourse('25', '44697',this, 'a:2:{s:8:~location~;s:7:~program~;s:4:~core~;s:5:~79682~;}'); return false;\">AET 260 - Emergency Conditions 1</a> <strong>Credits:</strong> 3</span></li><li class=\"acalog-course\"><span><a aria-expanded=\"false\" href=\"#\" onclick=\"showCourse('25', '44699',this, 'a:2:{s:8:~location~;s:7:~program~;s:4:~core~;s:5:~79682~;}'); return false;\">AET 272 - Field Prevention/Injury Care 1</a> <strong>Credits:</strong> 3</span></li><li class=\"acalog-course\"><span><a aria-expanded=\"false\" href=\"#\" onclick=\"showCourse('25', '44734',this, 'a:2:{s:8:~location~;s:7:~program~;s:4:~core~;s:5:~79682~;}'); return false;\">BIOL 151 - Human Physiology</a> <strong>Credits:</strong> 3</span></li><li class=\"acalog-course\"><span><a aria-expanded=\"false\" href=\"#\" onclick=\"showCourse('25', '45316',this, 'a:2:{s:8:~location~;s:7:~program~;s:4:~core~;s:5:~79682~;}'); return false;\">KIN 230 - Behavioural Fitness</a> <strong>Credits:</strong> 3</span></li></ul></div></div><div class=\"acalog-core\"><h4><a name=\"Note\"></a><a id=\"core_81101\" name=\"note\"></a>Note:</h4><hr/><p><em><strong>* </strong></em>Student may use <a href=\"preview_course_nopop.php?catoid=25&amp;coid=45229\" id=\"tt8003\" onclick=\"acalogPopup('preview_course.php?catoid=25&amp;coid=45229&amp;print', '3', 770, 530, 'yes');return false;\" rel=\"remote /ajax/preview_course.php?catoid=25&amp;coid=45229&amp;display_options[location]=tooltip&amp;show\" target=\"_blank\">ENGL 161</a><span style=\"display: none !important\"> </span> or <a href=\"preview_course_nopop.php?catoid=25&amp;coid=45230\" id=\"tt8711\" onclick=\"acalogPopup('preview_course.php?catoid=25&amp;coid=45230&amp;print', '3', 770, 530, 'yes');return false;\" rel=\"remote /ajax/preview_course.php?catoid=25&amp;coid=45230&amp;display_options[location]=tooltip&amp;show\" target=\"_blank\">ENGL 163</a><span style=\"display: none !important\"> </span> or <a href=\"preview_course_nopop.php?catoid=25&amp;coid=45231\" id=\"tt1932\" onclick=\"acalogPopup('preview_course.php?catoid=25&amp;coid=45231&amp;print', '3', 770, 530, 'yes');return false;\" rel=\"remote /ajax/preview_course.php?catoid=25&amp;coid=45231&amp;display_options[location]=tooltip&amp;show\" target=\"_blank\">ENGL 164</a><span style=\"display: none !important\"> </span> in lieu of <a href=\"preview_course_nopop.php?catoid=25&amp;coid=45228\" id=\"tt4863\" onclick=\"acalogPopup('preview_course.php?catoid=25&amp;coid=45228&amp;print', '3', 770, 530, 'yes');return false;\" rel=\"remote /ajax/preview_course.php?catoid=25&amp;coid=45228&amp;display_options[location]=tooltip&amp;show\" target=\"_blank\">ENGL 151</a><span style=\"display: none !important\"> </span> toward program completion.</p></div></div><div class=\"acalog-core\"><h3><a name=\"YearTwo\"></a><a id=\"core_79683\" name=\"yeartwo\"></a>Year Two</h3><hr/></div><div class=\"custom_leftpad_20\"><div class=\"acalog-core\"><h4><a name=\"AcademicTermThree\"></a><a id=\"core_79684\" name=\"academictermthree\"></a>Academic Term Three</h4><hr/></div><div class=\"custom_leftpad_20\"><div class=\"acalog-core\"><h5><a name=\"AllOf\"></a><a id=\"core_79685\" name=\"allof\"></a>All of:</h5><hr/><ul><li class=\"acalog-course\"><span><a aria-expanded=\"false\" href=\"#\" onclick=\"showCourse('25', '46612',this, 'a:2:{s:8:~location~;s:7:~program~;s:4:~core~;s:5:~79685~;}'); return false;\">AET 265 - Musculoskeletal Anatomy</a> <strong>Credits:</strong> 3</span></li><li class=\"acalog-course\"><span><a aria-expanded=\"false\" href=\"#\" onclick=\"showCourse('25', '44704',this, 'a:2:{s:8:~location~;s:7:~program~;s:4:~core~;s:5:~79685~;}'); return false;\">AET 320 - Human Motor Control</a> <strong>Credits:</strong> 3</span></li><li class=\"acalog-course\"><span><a aria-expanded=\"false\" href=\"#\" onclick=\"showCourse('25', '46048',this, 'a:2:{s:8:~location~;s:7:~program~;s:4:~core~;s:5:~79685~;}'); return false;\">KIN 210 - Exercise Physiology</a> <strong>Credits:</strong> 3</span></li><li class=\"acalog-course\"><span><a aria-expanded=\"false\" href=\"#\" onclick=\"showCourse('25', '45317',this, 'a:2:{s:8:~location~;s:7:~program~;s:4:~core~;s:5:~79685~;}'); return false;\">KIN 240 - Fitness &amp; Health Assessment</a> <strong>Credits:</strong> 3</span></li><li class=\"acalog-course\"><span><a aria-expanded=\"false\" href=\"#\" onclick=\"showCourse('25', '46054',this, 'a:2:{s:8:~location~;s:7:~program~;s:4:~core~;s:5:~79685~;}'); return false;\">KIN 310 - Research Methods</a> <strong>Credits:</strong> 3</span></li></ul></div></div><div class=\"acalog-core\"><h4><a name=\"AcademicTermFour\"></a><a id=\"core_79686\" name=\"academictermfour\"></a>Academic Term Four</h4><hr/></div><div class=\"custom_leftpad_20\"><div class=\"acalog-core\"><h5><a name=\"AllOf\"></a><a id=\"core_79687\" name=\"allof\"></a>All of:</h5><hr/><ul><li class=\"acalog-course\"><span><a aria-expanded=\"false\" href=\"#\" onclick=\"showCourse('25', '44696',this, 'a:2:{s:8:~location~;s:7:~program~;s:4:~core~;s:5:~79687~;}'); return false;\">AET 202 - Placement 2</a> <strong>Credits:</strong> 3</span></li><li class=\"acalog-course\"><span><a aria-expanded=\"false\" href=\"#\" onclick=\"showCourse('25', '44703',this, 'a:2:{s:8:~location~;s:7:~program~;s:4:~core~;s:5:~79687~;}'); return false;\">AET 310 - Pathophysiology</a> <strong>Credits:</strong> 3</span></li><li class=\"acalog-course\"><span><a aria-expanded=\"false\" href=\"#\" onclick=\"showCourse('25', '44821',this, 'a:2:{s:8:~location~;s:7:~program~;s:4:~core~;s:5:~79687~;}'); return false;\">CHEM 214 - Nutrition for Fitness</a> <strong>Credits:</strong> 3</span></li><li class=\"acalog-course\"><span><a aria-expanded=\"false\" href=\"#\" onclick=\"showCourse('25', '45318',this, 'a:2:{s:8:~location~;s:7:~program~;s:4:~core~;s:5:~79687~;}'); return false;\">KIN 241 - Exercise Prescription &amp; Design</a> <strong>Credits:</strong> 3</span></li><li class=\"acalog-course\"><span><a aria-expanded=\"false\" href=\"#\" onclick=\"showCourse('25', '46052',this, 'a:2:{s:8:~location~;s:7:~program~;s:4:~core~;s:5:~79687~;}'); return false;\">KIN 341 - Training for Performance</a> <strong>Credits:</strong> 3</span></li></ul></div></div></div><div class=\"acalog-core\"><h3><a name=\"YearThree\"></a><a id=\"core_79688\" name=\"yearthree\"></a>Year Three</h3><hr/></div><div class=\"custom_leftpad_20\"><div class=\"acalog-core\"><h4><a name=\"AcademicTermFive\"></a><a id=\"core_79689\" name=\"academictermfive\"></a>Academic Term Five</h4><hr/></div><div class=\"custom_leftpad_20\"><div class=\"acalog-core\"><h5><a name=\"AllOf\"></a><a id=\"core_79690\" name=\"allof\"></a>All of:</h5><hr/><ul><li class=\"acalog-course\"><span><a aria-expanded=\"false\" href=\"#\" onclick=\"showCourse('25', '44698',this, 'a:2:{s:8:~location~;s:7:~program~;s:4:~core~;s:5:~79690~;}'); return false;\">AET 261 - Emergency Conditions 2</a> <strong>Credits:</strong> 3</span></li><li class=\"acalog-course\"><span><a aria-expanded=\"false\" href=\"#\" onclick=\"showCourse('25', '44700',this, 'a:2:{s:8:~location~;s:7:~program~;s:4:~core~;s:5:~79690~;}'); return false;\">AET 273 - Field Prevention/Injury Care 2</a> <strong>Credits:</strong> 3</span></li><li class=\"acalog-course\"><span><a aria-expanded=\"false\" href=\"#\" onclick=\"showCourse('25', '44701',this, 'a:2:{s:8:~location~;s:7:~program~;s:4:~core~;s:5:~79690~;}'); return false;\">AET 301 - Placement 3</a> <strong>Credits:</strong> 6</span></li><li class=\"acalog-course\"><span><a aria-expanded=\"false\" href=\"#\" onclick=\"showCourse('25', '46613',this, 'a:2:{s:8:~location~;s:7:~program~;s:4:~core~;s:5:~79690~;}'); return false;\">AET 365 - Applied Musculoskeletal Anatomy</a> <strong>Credits:</strong> 3</span></li><li class=\"acalog-course\"><span><a aria-expanded=\"false\" href=\"#\" onclick=\"showCourse('25', '44708',this, 'a:2:{s:8:~location~;s:7:~program~;s:4:~core~;s:5:~79690~;}'); return false;\">AET 381 - Clinical Skills 1 Assessment of Orthopedic Injuries</a> <strong>Credits:</strong> 3</span></li></ul></div></div><div class=\"acalog-core\"><h4><a name=\"AcademicTermSix\"></a><a id=\"core_79691\" name=\"academictermsix\"></a>Academic Term Six</h4><hr/></div><div class=\"custom_leftpad_20\"><div class=\"acalog-core\"><h5><a name=\"AllOf\"></a><a id=\"core_79692\" name=\"allof\"></a>All of:</h5><hr/><ul><li class=\"acalog-course\"><span><a aria-expanded=\"false\" href=\"#\" onclick=\"showCourse('25', '44702',this, 'a:2:{s:8:~location~;s:7:~program~;s:4:~core~;s:5:~79692~;}'); return false;\">AET 302 - Placement 4</a> <strong>Credits:</strong> 6</span></li><li class=\"acalog-course\"><span><a aria-expanded=\"false\" href=\"#\" onclick=\"showCourse('25', '44705',this, 'a:2:{s:8:~location~;s:7:~program~;s:4:~core~;s:5:~79692~;}'); return false;\">AET 330 - Therapeutic Modalities</a> <strong>Credits:</strong> 3</span></li><li class=\"acalog-course\"><span><a aria-expanded=\"false\" href=\"#\" onclick=\"showCourse('25', '44714',this, 'a:2:{s:8:~location~;s:7:~program~;s:4:~core~;s:5:~79692~;}'); return false;\">AET 440 - Anatomy of the Spine</a> <strong>Credits:</strong> 3</span></li><li class=\"acalog-course\"><span><a aria-expanded=\"false\" href=\"#\" onclick=\"showCourse('25', '46057',this, 'a:2:{s:8:~location~;s:7:~program~;s:4:~core~;s:5:~79692~;}'); return false;\">AET 470 - Pharmacology and Exercise</a> <strong>Credits:</strong> 3</span></li><li class=\"acalog-course\"><span><a aria-expanded=\"false\" href=\"#\" onclick=\"showCourse('25', '44717',this, 'a:2:{s:8:~location~;s:7:~program~;s:4:~core~;s:5:~79692~;}'); return false;\">AET 482 - Clinical 2 Rehabilitation of Orthopedic Injuries</a> <strong>Credits:</strong> 3</span></li></ul></div></div></div><div class=\"acalog-core\"><h3><a name=\"YearFour\"></a><a id=\"core_79693\" name=\"yearfour\"></a>Year Four</h3><hr/></div><div class=\"custom_leftpad_20\"><div class=\"acalog-core\"><h4><a name=\"AcademicTermSeven\"></a><a id=\"core_79694\" name=\"academictermseven\"></a>Academic Term Seven</h4><hr/></div><div class=\"custom_leftpad_20\"><div class=\"acalog-core\"><h5><a name=\"AllOf\"></a><a id=\"core_79695\" name=\"allof\"></a>All of:</h5><hr/><ul><li class=\"acalog-course\"><span><a aria-expanded=\"false\" href=\"#\" onclick=\"showCourse('25', '44709',this, 'a:2:{s:8:~location~;s:7:~program~;s:4:~core~;s:5:~79695~;}'); return false;\">AET 401 - Placement 5</a> <strong>Credits:</strong> 6</span></li><li class=\"acalog-course\"><span><a aria-expanded=\"false\" href=\"#\" onclick=\"showCourse('25', '44713',this, 'a:2:{s:8:~location~;s:7:~program~;s:4:~core~;s:5:~79695~;}'); return false;\">AET 430 - Concepts of Manual Therapy</a> <strong>Credits:</strong> 3</span></li><li class=\"acalog-course\"><span><a aria-expanded=\"false\" href=\"#\" onclick=\"showCourse('25', '44715',this, 'a:2:{s:8:~location~;s:7:~program~;s:4:~core~;s:5:~79695~;}'); return false;\">AET 450 - Ergonomics</a> <strong>Credits:</strong> 3</span></li><li class=\"acalog-course\"><span><a aria-expanded=\"false\" href=\"#\" onclick=\"showCourse('25', '44716',this, 'a:2:{s:8:~location~;s:7:~program~;s:4:~core~;s:5:~79695~;}'); return false;\">AET 481 - Clinical 3 Spine</a> <strong>Credits:</strong> 3</span></li><li class=\"acalog-course\"><span><a aria-expanded=\"false\" href=\"#\" onclick=\"showCourse('25', '46053',this, 'a:2:{s:8:~location~;s:7:~program~;s:4:~core~;s:5:~79695~;}'); return false;\">KIN 400 - Chronic Disease Management</a> <strong>Credits:</strong> 3</span></li></ul></div></div><div class=\"acalog-core\"><h4><a name=\"AcademicTermEight\"></a><a id=\"core_79696\" name=\"academictermeight\"></a>Academic Term Eight</h4><hr/></div><div class=\"custom_leftpad_20\"><div class=\"acalog-core\"><h5><a name=\"AllOf\"></a><a id=\"core_79697\" name=\"allof\"></a>All of:</h5><hr/><ul><li class=\"acalog-course\"><span><a aria-expanded=\"false\" href=\"#\" onclick=\"showCourse('25', '44710',this, 'a:2:{s:8:~location~;s:7:~program~;s:4:~core~;s:5:~79697~;}'); return false;\">AET 402 - Placement 6</a> <strong>Credits:</strong> 6</span></li><li class=\"acalog-course\"><span><a aria-expanded=\"false\" href=\"#\" onclick=\"showCourse('25', '44712',this, 'a:2:{s:8:~location~;s:7:~program~;s:4:~core~;s:5:~79697~;}'); return false;\">AET 420 - Business Management for Therapists</a> <strong>Credits:</strong> 3</span></li><li class=\"acalog-course\"><span><a aria-expanded=\"false\" href=\"#\" onclick=\"showCourse('25', '46614',this, 'a:2:{s:8:~location~;s:7:~program~;s:4:~core~;s:5:~79697~;}'); return false;\">AET 490 - Athletic Therapy Capstone</a> <strong>Credits:</strong> 3</span></li><li class=\"acalog-adhoc-list-item acalog-adhoc-after\">Two (2) electives -  300 level or higher courses <strong>Credits</strong>: 6*</li></ul></div></div><div class=\"acalog-core\"><h4><a name=\"Note\"></a><a id=\"core_81102\" name=\"note\"></a>Note:</h4><hr/><p>*Electives must be 300 or higher level academic courses. </p></div></div></div>"
      ]
     },
     "execution_count": 16,
     "metadata": {},
     "output_type": "execute_result"
    }
   ],
   "source": [
    "curriculum_header.find_parent('div').find_next_sibling('div')"
   ]
  },
  {
   "cell_type": "code",
   "execution_count": null,
   "id": "f8f7fed0",
   "metadata": {},
   "outputs": [],
   "source": [
    "import requests\n",
    "from bs4 import BeautifulSoup\n",
    "import re\n",
    "\n",
    "def extract_courses_from_program(url):\n",
    "    soup = get_soup(url)\n",
    "\n",
    "    # Find the \"Curriculum\" header (usually an h2 or h3 tag)\n",
    "    curriculum_header = None\n",
    "    for header_tag in ['h2', 'h3', 'h4']:\n",
    "        headers = soup.find_all(header_tag)\n",
    "        for header in headers:\n",
    "            if 'curriculum' in header.get_text(strip=True).lower():\n",
    "                curriculum_header = header\n",
    "                break\n",
    "        if curriculum_header:\n",
    "            break\n",
    "\n",
    "    if not curriculum_header:\n",
    "        raise Exception(\"Curriculum section not found.\")\n",
    "\n",
    "    # Get the next sibling that contains curriculum content\n",
    "    # We'll collect all course codes that look like AAAA 000\n",
    "    curriculum_content = []\n",
    "    current = curriculum_header.find_next_sibling()\n",
    "    while current:\n",
    "        # Stop if we hit another section header\n",
    "        if current.name in ['h2', 'h3', 'h4']:\n",
    "            break\n",
    "\n",
    "        text = current.get_text(separator=' ', strip=True)\n",
    "        # Regex pattern for course codes (e.g., ENGL 151, MATH 100)\n",
    "        courses = re.findall(r'\\b[A-Z]{4}\\s*\\d{3}[A-Z]?\\b', text)\n",
    "        curriculum_content.extend(courses)\n",
    "\n",
    "        current = current.find_next_sibling()\n",
    "\n",
    "    # Remove duplicates and sort\n",
    "    return sorted(set(curriculum_content))\n"
   ]
  },
  {
   "cell_type": "code",
   "execution_count": 10,
   "id": "ce976b2b",
   "metadata": {},
   "outputs": [
    {
     "data": {
      "text/plain": [
       "[]"
      ]
     },
     "execution_count": 10,
     "metadata": {},
     "output_type": "execute_result"
    }
   ],
   "source": [
    "extract_courses_from_program('https://calendar.camosun.ca/preview_program.php?catoid=25&poid=3954')"
   ]
  },
  {
   "cell_type": "markdown",
   "id": "9bc22ce2",
   "metadata": {},
   "source": [
    "## Explanation of Course Extraction Function\n",
    "\n",
    "The `extract_courses` function is designed to be flexible and handle different HTML structures for program curriculum pages. It works through the following steps:\n",
    "\n",
    "1. **Locate the Curriculum Section**: Identifies the section containing course information by searching for common headings like \"Curriculum\", \"Program Content\", etc.\n",
    "\n",
    "2. **Recursive Parsing**: The function uses a recursive approach to handle different levels of nesting:\n",
    "   - Level 2 nesting: Courses are 2 levels deep from the curriculum heading\n",
    "   - Level 3 nesting: Courses are 3 levels deep\n",
    "   - Level 4 nesting: Courses are 4 levels deep or more\n",
    "\n",
    "3. **Multiple Extraction Methods**: The function can extract course information from:\n",
    "   - HTML tables (most common format)\n",
    "   - Unordered or ordered lists\n",
    "   - Specifically formatted text\n",
    "\n",
    "4. **Pattern Recognition**: Uses regular expressions to identify course codes and extract components like:\n",
    "   - Course code (e.g., \"ENGL 151\")\n",
    "   - Course title (e.g., \"Academic Writing Strategies\")\n",
    "   - Credit values when available\n",
    "\n",
    "5. **Fallback Mechanisms**: If the primary approach doesn't find any courses, it tries additional strategies:\n",
    "   - Looking at parent containers of the curriculum heading\n",
    "   - Scanning all tables in the document for course-like content\n",
    "   \n",
    "This approach ensures that courses can be extracted regardless of the HTML structure, which varies between different programs and credential types."
   ]
  }
 ],
 "metadata": {
  "kernelspec": {
   "display_name": "base",
   "language": "python",
   "name": "python3"
  },
  "language_info": {
   "codemirror_mode": {
    "name": "ipython",
    "version": 3
   },
   "file_extension": ".py",
   "mimetype": "text/x-python",
   "name": "python",
   "nbconvert_exporter": "python",
   "pygments_lexer": "ipython3",
   "version": "3.11.5"
  }
 },
 "nbformat": 4,
 "nbformat_minor": 5
}
